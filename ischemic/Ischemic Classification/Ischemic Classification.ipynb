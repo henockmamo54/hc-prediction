{
 "cells": [
  {
   "cell_type": "code",
   "execution_count": 1,
   "metadata": {},
   "outputs": [],
   "source": [
    "import numpy as np\n",
    "import pandas as pd\n",
    "import warnings\n",
    "from scipy.stats import chi2_contingency\n",
    "from scipy import stats\n",
    "from matplotlib import pyplot as plt\n",
    "import json\n",
    "import yapf.yapflib.yapf_api\n",
    "from sklearn.utils import shuffle\n",
    "warnings.filterwarnings(\"ignore\")"
   ]
  },
  {
   "cell_type": "markdown",
   "metadata": {},
   "source": [
    "1 Read the dataset \n",
    "========"
   ]
  },
  {
   "cell_type": "code",
   "execution_count": 2,
   "metadata": {},
   "outputs": [],
   "source": [
    "maindata= pd.read_csv('../Dataset/DATASET_2019-10-24_light.txt',sep=',')"
   ]
  },
  {
   "cell_type": "code",
   "execution_count": 3,
   "metadata": {},
   "outputs": [
    {
     "name": "stdout",
     "output_type": "stream",
     "text": [
      "(9482, 407)\n"
     ]
    },
    {
     "data": {
      "text/plain": [
       "CLASS\n",
       "0    4741\n",
       "1    4741\n",
       "dtype: int64"
      ]
     },
     "execution_count": 3,
     "metadata": {},
     "output_type": "execute_result"
    }
   ],
   "source": [
    "class0=maindata[maindata.CLASS==0]\n",
    "class1=maindata[maindata.CLASS==1]\n",
    "class0=class0.sample(class1.shape[0],random_state=42)\n",
    "data=pd.concat([class1,class0])\n",
    "print(data.shape)\n",
    "\n",
    "data.groupby(by='CLASS').size()"
   ]
  },
  {
   "cell_type": "code",
   "execution_count": 4,
   "metadata": {},
   "outputs": [
    {
     "name": "stdout",
     "output_type": "stream",
     "text": [
      "(9482, 403)\n"
     ]
    }
   ],
   "source": [
    "\n",
    "data['FIELD_6_7']=np.min(data[['FIELD_6','FIELD_7']],axis=1) #combine FIELD_6 and FIELD_7 both represent the same thing (Women's marital status)\n",
    "data=data.drop(columns=['FIELD_6','FIELD_7','COMPARE','B_DAY','Unnamed: 0'])#,'FIELD_1','FIELD_2'\n",
    "print(data.shape)"
   ]
  },
  {
   "cell_type": "code",
   "execution_count": 5,
   "metadata": {},
   "outputs": [],
   "source": [
    "# rename columns\n",
    "data.rename(\n",
    "    columns={\n",
    "        \"L104600\": \"HBA1C\",\n",
    "        \"L103000\": \"Triglycerides\",\n",
    "        \"L100800\": \"fasting glucose\",\n",
    "        \"S000300\": \"BMI\",\n",
    "        \"S000501\": \"SBP\",\n",
    "        \"S000502\": \"DBP\",\n",
    "        \"L101700\": \"r-GTP gamma\",\n",
    "        \"L103300\": \"Cardiac risk factor\",\n",
    "        \"L190400\": \"Hemoglobin\",\n",
    "        \"L190500\": \"HCT\",\n",
    "        \"L100700\": \"Uric Acid\",\n",
    "        \"L101300\": \"SGPT\",\n",
    "        \"L190300\": \"RBC\",\n",
    "        \"L102900\": \"total cholesterol\",\n",
    "        \"L103100\": \"HDL-Cholesterol\",\n",
    "    },\n",
    "    inplace=True,\n",
    ")\n",
    "mydata = data.rename(\n",
    "    columns={\n",
    "        \"FIELD_33\": \"_4_1_Smoking\",\n",
    "        \"FIELD_38\": \"Drinking_5_1_days\",\n",
    "        \"FIELD_40\": \"_6_1_of_physical_activity_high_strength\",\n",
    "        \"FIELD_31\": \"Family_history\",\n",
    "        \"FIELD_41\": \"_6_2_of_physical_activity_moderate\",\n",
    "        \"FIELD_27\": \"_2_family_history_stroke\",\n",
    "        \"FIELD_21\": \"_1_medication_heart_disease\",\n",
    "        \"FIELD_14\": \"Whether_one_diagnosis_disease\",\n",
    "        \"FIELD_32\": \"_3B_hepatitis\",\n",
    "        \"FIELD_42\": \"_6_3_of_physical_activity_walking\",\n",
    "        \"FIELD_4\": \"blood_type\",\n",
    "        \"FIELD_29\": \"_2_family_history_hypertension\",\n",
    "        \"FIELD_3\": \"Blood_factor_RH_factor\",\n",
    "        \"FIELD_19\": \"_1_drug_therapy_stroke\",\n",
    "    },\n",
    "    inplace=True,\n",
    ")"
   ]
  },
  {
   "cell_type": "markdown",
   "metadata": {},
   "source": [
    "3.4 Final Selected Features\n",
    "======"
   ]
  },
  {
   "cell_type": "code",
   "execution_count": 6,
   "metadata": {},
   "outputs": [],
   "source": [
    "\n",
    "finalFeatures = ['AGE', 'BMI', 'FIELD_15', 'L190900',\n",
    "                 'Cardiac risk factor', 'L504700', 'RBC',\n",
    "                 'HDL-Cholesterol', 'Uric Acid', \n",
    "                 '_4_1_Smoking', 'Drinking_5_1_days', 'SEX','Triglycerides','r-GTP gamma',\n",
    "#                  'SBP',  'DBP','fasting glucose', \n",
    "                 #'L101400', 'L100400', 'L190000', 'L105200', \n",
    "                 'CLASS'\n",
    "]\n",
    "\n",
    "\n"
   ]
  },
  {
   "cell_type": "markdown",
   "metadata": {},
   "source": [
    "Classifier Model Test Based on the features \n",
    "========"
   ]
  },
  {
   "cell_type": "code",
   "execution_count": 7,
   "metadata": {},
   "outputs": [
    {
     "name": "stdout",
     "output_type": "stream",
     "text": [
      "(6279, 15)\n"
     ]
    },
    {
     "data": {
      "text/html": [
       "<div>\n",
       "<style scoped>\n",
       "    .dataframe tbody tr th:only-of-type {\n",
       "        vertical-align: middle;\n",
       "    }\n",
       "\n",
       "    .dataframe tbody tr th {\n",
       "        vertical-align: top;\n",
       "    }\n",
       "\n",
       "    .dataframe thead th {\n",
       "        text-align: right;\n",
       "    }\n",
       "</style>\n",
       "<table border=\"1\" class=\"dataframe\">\n",
       "  <thead>\n",
       "    <tr style=\"text-align: right;\">\n",
       "      <th></th>\n",
       "      <th>AGE</th>\n",
       "      <th>BMI</th>\n",
       "      <th>FIELD_15</th>\n",
       "      <th>L190900</th>\n",
       "      <th>Cardiac risk factor</th>\n",
       "      <th>L504700</th>\n",
       "      <th>RBC</th>\n",
       "      <th>HDL-Cholesterol</th>\n",
       "      <th>Uric Acid</th>\n",
       "      <th>_4_1_Smoking</th>\n",
       "      <th>Drinking_5_1_days</th>\n",
       "      <th>SEX</th>\n",
       "      <th>Triglycerides</th>\n",
       "      <th>r-GTP gamma</th>\n",
       "      <th>CLASS</th>\n",
       "    </tr>\n",
       "  </thead>\n",
       "  <tbody>\n",
       "    <tr>\n",
       "      <th>501</th>\n",
       "      <td>46.0</td>\n",
       "      <td>25.4</td>\n",
       "      <td>0.0</td>\n",
       "      <td>13.2</td>\n",
       "      <td>4.0</td>\n",
       "      <td>3.26</td>\n",
       "      <td>4.93</td>\n",
       "      <td>54.0</td>\n",
       "      <td>5.8</td>\n",
       "      <td>2.0</td>\n",
       "      <td>4.0</td>\n",
       "      <td>0.0</td>\n",
       "      <td>88.0</td>\n",
       "      <td>43.0</td>\n",
       "      <td>1</td>\n",
       "    </tr>\n",
       "    <tr>\n",
       "      <th>633</th>\n",
       "      <td>47.0</td>\n",
       "      <td>29.2</td>\n",
       "      <td>0.0</td>\n",
       "      <td>13.9</td>\n",
       "      <td>5.4</td>\n",
       "      <td>1.48</td>\n",
       "      <td>5.25</td>\n",
       "      <td>28.0</td>\n",
       "      <td>4.1</td>\n",
       "      <td>3.0</td>\n",
       "      <td>1.0</td>\n",
       "      <td>0.0</td>\n",
       "      <td>277.0</td>\n",
       "      <td>43.0</td>\n",
       "      <td>1</td>\n",
       "    </tr>\n",
       "    <tr>\n",
       "      <th>735</th>\n",
       "      <td>48.0</td>\n",
       "      <td>21.5</td>\n",
       "      <td>0.0</td>\n",
       "      <td>13.4</td>\n",
       "      <td>3.0</td>\n",
       "      <td>0.62</td>\n",
       "      <td>4.58</td>\n",
       "      <td>72.0</td>\n",
       "      <td>4.4</td>\n",
       "      <td>1.0</td>\n",
       "      <td>3.0</td>\n",
       "      <td>1.0</td>\n",
       "      <td>94.0</td>\n",
       "      <td>33.0</td>\n",
       "      <td>1</td>\n",
       "    </tr>\n",
       "    <tr>\n",
       "      <th>1050</th>\n",
       "      <td>47.0</td>\n",
       "      <td>24.7</td>\n",
       "      <td>0.0</td>\n",
       "      <td>13.5</td>\n",
       "      <td>3.6</td>\n",
       "      <td>0.98</td>\n",
       "      <td>4.69</td>\n",
       "      <td>55.0</td>\n",
       "      <td>4.4</td>\n",
       "      <td>1.0</td>\n",
       "      <td>2.0</td>\n",
       "      <td>0.0</td>\n",
       "      <td>124.0</td>\n",
       "      <td>44.0</td>\n",
       "      <td>1</td>\n",
       "    </tr>\n",
       "    <tr>\n",
       "      <th>1759</th>\n",
       "      <td>49.0</td>\n",
       "      <td>28.4</td>\n",
       "      <td>0.0</td>\n",
       "      <td>13.1</td>\n",
       "      <td>5.3</td>\n",
       "      <td>3.70</td>\n",
       "      <td>4.71</td>\n",
       "      <td>37.0</td>\n",
       "      <td>5.5</td>\n",
       "      <td>1.0</td>\n",
       "      <td>1.0</td>\n",
       "      <td>0.0</td>\n",
       "      <td>177.0</td>\n",
       "      <td>44.0</td>\n",
       "      <td>1</td>\n",
       "    </tr>\n",
       "  </tbody>\n",
       "</table>\n",
       "</div>"
      ],
      "text/plain": [
       "       AGE   BMI  FIELD_15  L190900  Cardiac risk factor  L504700   RBC  \\\n",
       "501   46.0  25.4       0.0     13.2                  4.0     3.26  4.93   \n",
       "633   47.0  29.2       0.0     13.9                  5.4     1.48  5.25   \n",
       "735   48.0  21.5       0.0     13.4                  3.0     0.62  4.58   \n",
       "1050  47.0  24.7       0.0     13.5                  3.6     0.98  4.69   \n",
       "1759  49.0  28.4       0.0     13.1                  5.3     3.70  4.71   \n",
       "\n",
       "      HDL-Cholesterol  Uric Acid  _4_1_Smoking  Drinking_5_1_days  SEX  \\\n",
       "501              54.0        5.8           2.0                4.0  0.0   \n",
       "633              28.0        4.1           3.0                1.0  0.0   \n",
       "735              72.0        4.4           1.0                3.0  1.0   \n",
       "1050             55.0        4.4           1.0                2.0  0.0   \n",
       "1759             37.0        5.5           1.0                1.0  0.0   \n",
       "\n",
       "      Triglycerides  r-GTP gamma  CLASS  \n",
       "501            88.0         43.0      1  \n",
       "633           277.0         43.0      1  \n",
       "735            94.0         33.0      1  \n",
       "1050          124.0         44.0      1  \n",
       "1759          177.0         44.0      1  "
      ]
     },
     "execution_count": 7,
     "metadata": {},
     "output_type": "execute_result"
    }
   ],
   "source": [
    "randomseed = 7\n",
    "mydata = data[finalFeatures].copy().dropna()\n",
    "print(mydata.shape)\n",
    "mydata.head()"
   ]
  },
  {
   "cell_type": "code",
   "execution_count": 8,
   "metadata": {},
   "outputs": [
    {
     "name": "stdout",
     "output_type": "stream",
     "text": [
      "3117 3162\n"
     ]
    }
   ],
   "source": [
    "class1 = mydata[mydata.CLASS == 1]\n",
    "class0 = mydata[mydata.CLASS == 0]\n",
    "\n",
    "print(class1.shape[0],class0.shape[0],)\n",
    "\n",
    "class1_test = class1.sample(200, random_state=42)\n",
    "class0_test = class0.sample(200, random_state=42)\n",
    "test = pd.concat([class1_test, class0_test])\n",
    "test=shuffle(test)\n",
    "\n",
    "\n",
    "class1_train = class1.drop(class1_test.index) #.sample( class2_train.shape[0], random_state=randomseed)\n",
    "class0_train = class0.drop(class0_test.index) #.sample( class2_train.shape[0], random_state=randomseed)\n",
    "train = pd.concat([class1_train, class0_train])\n",
    "train=shuffle(train, random_state=42)"
   ]
  },
  {
   "cell_type": "code",
   "execution_count": 9,
   "metadata": {},
   "outputs": [],
   "source": [
    "# # generate synthetic dataset to overcome class imbalance\n",
    "# from collections import Counter\n",
    "# from numpy.random import RandomState\n",
    "# from sklearn.datasets import make_classification\n",
    "# from imblearn.over_sampling import SMOTENC\n",
    "\n",
    "# sm = SMOTENC(random_state=42, categorical_features=[0],k_neighbors=10,sampling_strategy = 0.9)\n",
    "# X_res, y_res = sm.fit_resample(train.iloc[:,:-1],train.iloc[:,-1])\n",
    "# print(\"Resampled dataset samples per class {}\".format(Counter(y_res)))\n",
    "\n",
    "# train=pd.DataFrame(X_res,columns=list(train.columns[:-1]))\n",
    "# train['CLASS']=y_res"
   ]
  },
  {
   "cell_type": "code",
   "execution_count": 10,
   "metadata": {},
   "outputs": [
    {
     "data": {
      "text/plain": [
       "RandomForestClassifier(max_depth=10, n_estimators=1000, random_state=42)"
      ]
     },
     "execution_count": 10,
     "metadata": {},
     "output_type": "execute_result"
    }
   ],
   "source": [
    "from sklearn.ensemble import RandomForestClassifier\n",
    "rf = RandomForestClassifier(random_state=42, n_estimators=1000, max_depth=10, criterion='gini')\n",
    "rf.fit(train.iloc[:, :-1], train.iloc[:, -1])"
   ]
  },
  {
   "cell_type": "code",
   "execution_count": 11,
   "metadata": {},
   "outputs": [
    {
     "name": "stdout",
     "output_type": "stream",
     "text": [
      "0.74\n"
     ]
    },
    {
     "data": {
      "image/png": "[encoded data removed]",
      "text/plain": [
       "<Figure size 432x288 with 1 Axes>"
      ]
     },
     "metadata": {
      "needs_background": "light"
     },
     "output_type": "display_data"
    },
    {
     "name": "stdout",
     "output_type": "stream",
     "text": [
      "Index(['AGE', 'BMI', 'L504700', 'r-GTP gamma', 'RBC', 'L190900',\n",
      "       'Triglycerides', 'Uric Acid', 'HDL-Cholesterol', 'Cardiac risk factor',\n",
      "       'FIELD_15', 'Drinking_5_1_days', '_4_1_Smoking', 'SEX'],\n",
      "      dtype='object')\n",
      "1.0\n"
     ]
    }
   ],
   "source": [
    "ypred = rf.predict(test.iloc[:, :-1])\n",
    "\n",
    "score = rf.score(test.iloc[:, :-1], test.iloc[:, -1])\n",
    "print(score)\n",
    "\n",
    "feat_importances = pd.Series(rf.feature_importances_, index=test.iloc[:, :-1].columns)\n",
    "feat_importances.nlargest(16).plot(kind=\"barh\")\n",
    "plt.show()\n",
    "\n",
    "print(feat_importances.nlargest(16).index)\n",
    "\n",
    "print(np.sum(feat_importances.nlargest(16)))"
   ]
  },
  {
   "cell_type": "code",
   "execution_count": 12,
   "metadata": {},
   "outputs": [
    {
     "data": {
      "text/plain": [
       "array([[151,  49],\n",
       "       [ 55, 145]], dtype=int64)"
      ]
     },
     "execution_count": 12,
     "metadata": {},
     "output_type": "execute_result"
    }
   ],
   "source": [
    "from sklearn.metrics import confusion_matrix\n",
    "\n",
    "confusion_matrix(test.iloc[:, -1], ypred)"
   ]
  },
  {
   "cell_type": "code",
   "execution_count": 13,
   "metadata": {},
   "outputs": [
    {
     "name": "stdout",
     "output_type": "stream",
     "text": [
      "Accuracy on training set: 0.838\n",
      "Accuracy on test set: 0.740\n"
     ]
    },
    {
     "data": {
      "text/html": [
       "<div>\n",
       "<style scoped>\n",
       "    .dataframe tbody tr th:only-of-type {\n",
       "        vertical-align: middle;\n",
       "    }\n",
       "\n",
       "    .dataframe tbody tr th {\n",
       "        vertical-align: top;\n",
       "    }\n",
       "\n",
       "    .dataframe thead th {\n",
       "        text-align: right;\n",
       "    }\n",
       "</style>\n",
       "<table border=\"1\" class=\"dataframe\">\n",
       "  <thead>\n",
       "    <tr style=\"text-align: right;\">\n",
       "      <th></th>\n",
       "      <th>0</th>\n",
       "      <th>1</th>\n",
       "    </tr>\n",
       "  </thead>\n",
       "  <tbody>\n",
       "    <tr>\n",
       "      <th>0</th>\n",
       "      <td>151</td>\n",
       "      <td>49</td>\n",
       "    </tr>\n",
       "    <tr>\n",
       "      <th>1</th>\n",
       "      <td>55</td>\n",
       "      <td>145</td>\n",
       "    </tr>\n",
       "  </tbody>\n",
       "</table>\n",
       "</div>"
      ],
      "text/plain": [
       "     0    1\n",
       "0  151   49\n",
       "1   55  145"
      ]
     },
     "execution_count": 13,
     "metadata": {},
     "output_type": "execute_result"
    }
   ],
   "source": [
    "print(\n",
    "    \"Accuracy on training set: {:.3f}\".format(\n",
    "        rf.score(train.iloc[:, :-1], train.iloc[:, -1])\n",
    "    )\n",
    ")\n",
    "print(\n",
    "    \"Accuracy on test set: {:.3f}\".format(rf.score(test.iloc[:, :-1], test.iloc[:, -1]))\n",
    ")\n",
    "ypred = rf.predict(test.iloc[:, :-1])\n",
    "\n",
    "confmatrx = pd.DataFrame(confusion_matrix(test.iloc[:, -1], ypred))\n",
    "confmatrx.head()"
   ]
  },
  {
   "cell_type": "code",
   "execution_count": 14,
   "metadata": {},
   "outputs": [
    {
     "name": "stdout",
     "output_type": "stream",
     "text": [
      "              precision    recall  f1-score   support\n",
      "\n",
      "           0       0.73      0.76      0.74       200\n",
      "           1       0.75      0.72      0.74       200\n",
      "\n",
      "    accuracy                           0.74       400\n",
      "   macro avg       0.74      0.74      0.74       400\n",
      "weighted avg       0.74      0.74      0.74       400\n",
      "\n"
     ]
    }
   ],
   "source": [
    "from sklearn.metrics import classification_report\n",
    "\n",
    "print(classification_report(test.iloc[:, -1], ypred))"
   ]
  },
  {
   "cell_type": "code",
   "execution_count": 15,
   "metadata": {},
   "outputs": [],
   "source": [
    "# train.to_csv('train.csv',sep=',')\n",
    "# test.to_csv('test.csv',sep=',')\n",
    "# mydata.to_csv('mydata_train_test.csv',sep=',',index=False)"
   ]
  },
  {
   "cell_type": "code",
   "execution_count": 16,
   "metadata": {},
   "outputs": [],
   "source": [
    "# mydata2 = data[['FIELD_1','FIELD_2','AGE', 'BMI', 'L101400', 'FIELD_15', 'L100400', 'L190900',\n",
    "#                  'L190000', 'L105200', 'Cardiac risk factor', 'L504700', 'RBC',\n",
    "#                  'HDL-Cholesterol', 'Uric Acid', 'fasting glucose', 'Triglycerides',\n",
    "#                  'SBP',  'DBP',\n",
    "#                  'CLASS'\n",
    "# ]].copy().dropna()\n",
    "# mydata2.to_csv('mydata_train_test.csv',sep=',',index=False)"
   ]
  },
  {
   "cell_type": "code",
   "execution_count": 23,
   "metadata": {},
   "outputs": [
    {
     "name": "stdout",
     "output_type": "stream",
     "text": [
      "Accuracy on training set: 0.963\n",
      "Accuracy on test set: 0.688\n"
     ]
    },
    {
     "data": {
      "text/html": [
       "<div>\n",
       "<style scoped>\n",
       "    .dataframe tbody tr th:only-of-type {\n",
       "        vertical-align: middle;\n",
       "    }\n",
       "\n",
       "    .dataframe tbody tr th {\n",
       "        vertical-align: top;\n",
       "    }\n",
       "\n",
       "    .dataframe thead th {\n",
       "        text-align: right;\n",
       "    }\n",
       "</style>\n",
       "<table border=\"1\" class=\"dataframe\">\n",
       "  <thead>\n",
       "    <tr style=\"text-align: right;\">\n",
       "      <th></th>\n",
       "      <th>0</th>\n",
       "      <th>1</th>\n",
       "    </tr>\n",
       "  </thead>\n",
       "  <tbody>\n",
       "    <tr>\n",
       "      <th>0</th>\n",
       "      <td>139</td>\n",
       "      <td>61</td>\n",
       "    </tr>\n",
       "    <tr>\n",
       "      <th>1</th>\n",
       "      <td>64</td>\n",
       "      <td>136</td>\n",
       "    </tr>\n",
       "  </tbody>\n",
       "</table>\n",
       "</div>"
      ],
      "text/plain": [
       "     0    1\n",
       "0  139   61\n",
       "1   64  136"
      ]
     },
     "execution_count": 23,
     "metadata": {},
     "output_type": "execute_result"
    }
   ],
   "source": [
    "import xgboost as xgb\n",
    "from sklearn import metrics as m\n",
    "\n",
    "xgb_model = xgb.XGBClassifier(objective=\"binary:logistic\", random_state=randomseed)\n",
    "\n",
    "xgb_model.fit(train.iloc[:, :-1], train.iloc[:, -1])\n",
    "\n",
    "y_pred = xgb_model.predict((test.iloc[:, :-1]))\n",
    "\n",
    "print(\n",
    "    \"Accuracy on training set: {:.3f}\".format(\n",
    "        xgb_model.score(train.iloc[:, :-1], train.iloc[:, -1])\n",
    "    )\n",
    ")\n",
    "print(\n",
    "    \"Accuracy on test set: {:.3f}\".format(xgb_model.score(test.iloc[:, :-1], test.iloc[:, -1]))\n",
    ")\n",
    "confmatrx = pd.DataFrame(confusion_matrix(test.iloc[:, -1], y_pred))\n",
    "confmatrx.head()"
   ]
  },
  {
   "cell_type": "code",
   "execution_count": 24,
   "metadata": {},
   "outputs": [
    {
     "name": "stdout",
     "output_type": "stream",
     "text": [
      "              precision    recall  f1-score   support\n",
      "\n",
      "           0       0.68      0.69      0.69       200\n",
      "           1       0.69      0.68      0.69       200\n",
      "\n",
      "    accuracy                           0.69       400\n",
      "   macro avg       0.69      0.69      0.69       400\n",
      "weighted avg       0.69      0.69      0.69       400\n",
      "\n"
     ]
    }
   ],
   "source": [
    "print(classification_report(test.iloc[:, -1], y_pred))"
   ]
  },
  {
   "cell_type": "code",
   "execution_count": 25,
   "metadata": {},
   "outputs": [],
   "source": [
    "# train.to_csv('datasets/classification/train.txt',sep=',')\n",
    "# test.to_csv('datasets/classification/test.txt',sep=',')"
   ]
  },
  {
   "cell_type": "code",
   "execution_count": null,
   "metadata": {},
   "outputs": [],
   "source": []
  },
  {
   "cell_type": "code",
   "execution_count": 26,
   "metadata": {},
   "outputs": [],
   "source": [
    "import pickle\n",
    "\n",
    "with open('ISchemicClassifierModel_rf', 'wb') as f:\n",
    "    pickle.dump(rf, f)"
   ]
  },
  {
   "cell_type": "code",
   "execution_count": null,
   "metadata": {},
   "outputs": [],
   "source": []
  }
 ],
 "metadata": {
  "kernelspec": {
   "display_name": "Python 3",
   "language": "python",
   "name": "python3"
  },
  "language_info": {
   "codemirror_mode": {
    "name": "ipython",
    "version": 3
   },
   "file_extension": ".py",
   "mimetype": "text/x-python",
   "name": "python",
   "nbconvert_exporter": "python",
   "pygments_lexer": "ipython3",
   "version": "3.8.3"
  }
 },
 "nbformat": 4,
 "nbformat_minor": 2
}
