{
 "cells": [
  {
   "cell_type": "code",
   "execution_count": 1,
   "metadata": {},
   "outputs": [],
   "source": [
    "# %load_ext nb_black\n",
    "# !pip install nb_black\n",
    "\n",
    "import warnings\n",
    "\n",
    "warnings.filterwarnings(\"ignore\")"
   ]
  },
  {
   "cell_type": "code",
   "execution_count": 2,
   "metadata": {},
   "outputs": [],
   "source": [
    "import pandas as pd\n",
    "import numpy as np\n",
    "from matplotlib import pyplot as plt\n",
    "from sklearn import metrics as m\n",
    "from sklearn.datasets import make_classification\n",
    "from imblearn.over_sampling import SMOTE  # doctest: +NORMALIZE_WHITESPACE\n",
    "from sklearn.metrics import confusion_matrix\n",
    "from sklearn.metrics import classification_report\n",
    "from sklearn.model_selection import train_test_split\n",
    "from collections import Counter\n",
    "from sklearn.linear_model import LogisticRegression\n",
    "from sklearn.neighbors import KNeighborsClassifier\n",
    "from sklearn.svm import SVC\n",
    "from sklearn.model_selection import GridSearchCV\n",
    "from sklearn.model_selection import RandomizedSearchCV\n",
    "from sklearn.ensemble import RandomForestClassifier\n",
    "from sklearn.ensemble import VotingClassifier\n",
    "import xgboost as xgb\n",
    "from sklearn.pipeline import make_pipeline\n",
    "from mlxtend.feature_selection import ColumnSelector\n",
    "from sklearn import model_selection\n",
    "from mlxtend.classifier import StackingClassifier\n",
    "from thundersvm import SVC as svmgpu\n",
    "import pickle\n"
   ]
  },
  {
   "cell_type": "code",
   "execution_count": 3,
   "metadata": {},
   "outputs": [],
   "source": [
    "randomseed = 7\n",
    "np.random.seed(randomseed)"
   ]
  },
  {
   "cell_type": "markdown",
   "metadata": {},
   "source": [
    "# 1. Read the dataset"
   ]
  },
  {
   "cell_type": "code",
   "execution_count": 4,
   "metadata": {},
   "outputs": [
    {
     "name": "stdout",
     "output_type": "stream",
     "text": [
      "(185843, 35)\n"
     ]
    }
   ],
   "source": [
    "x_original = pd.read_csv(\"../../Dataset/XLable_onlyDiabeticRemoved.txt\")\n",
    "\n",
    "conditions = [\n",
    "    (x_original.L100800 < 100),\n",
    "    (x_original.L100800 >= 100) & (x_original.L100800 < 126),\n",
    "    (x_original.L100800 >= 126),\n",
    "]\n",
    "choices = [0, 1, 2]\n",
    "x_original[\"CLASS\"] = np.select(conditions, choices, default=0)\n",
    "\n",
    "x_original = x_original[\n",
    "    ['AGE', 'FIELD_1', 'FIELD_15', 'FIELD_16', 'FIELD_17', 'FIELD_2',\n",
    "       'FIELD_22', 'FIELD_23', 'FIELD_24', 'FIELD_31', 'FIELD_33',\n",
    "       'FIELD_38', 'FIELD_40', 'L100500', 'L100700', 'L100800', 'L101200',\n",
    "       'L101300', 'L101600', 'L101700', 'L103000', 'L103100', 'L103300',\n",
    "       'L104600', 'L107400', 'L190000', 'L190300', 'L190400', 'L190500',\n",
    "       'S000100', 'S000300', 'S000501', 'S000502', 'SEX', 'Unnamed: 0']\n",
    "]\n",
    "\n",
    "print(x_original.shape)"
   ]
  },
  {
   "cell_type": "code",
   "execution_count": 5,
   "metadata": {},
   "outputs": [
    {
     "name": "stdout",
     "output_type": "stream",
     "text": [
      "(185843, 2)\n"
     ]
    }
   ],
   "source": [
    "y_original = pd.read_csv(\"../../Dataset/TargetLable_onlyDiabeticRemoved.txt\")\n",
    "\n",
    "conditions = [\n",
    "    (y_original.L100800 < 100),\n",
    "    (y_original.L100800 >= 100) & (y_original.L100800 < 126),\n",
    "    (y_original.L100800 >= 126),\n",
    "]\n",
    "\n",
    "choices = [0, 1, 2]\n",
    "y_original[\"CLASS\"] = np.select(conditions, choices, default=0)\n",
    "\n",
    "y_original = y_original[[\"Unnamed: 0\", \"CLASS\"]]\n",
    "\n",
    "print(y_original.shape)"
   ]
  },
  {
   "cell_type": "code",
   "execution_count": 6,
   "metadata": {},
   "outputs": [],
   "source": [
    "data = pd.merge(\n",
    "    x_original, y_original, how=\"inner\", left_on=\"Unnamed: 0\", right_on=\"Unnamed: 0\"\n",
    ")"
   ]
  },
  {
   "cell_type": "code",
   "execution_count": 7,
   "metadata": {},
   "outputs": [
    {
     "name": "stdout",
     "output_type": "stream",
     "text": [
      "(169024, 36)\n"
     ]
    }
   ],
   "source": [
    "# filter the data set\n",
    "data = data[data.FIELD_16 != 1]  # exclude people who are diagnosed for (diabetes)\n",
    "data = data[data.FIELD_23 != 1]  # exclude people who are on medication for diabetes\n",
    "\n",
    "data = data[\n",
    "    data.FIELD_15 != 1\n",
    "]  # exclude people who are diagnosed for (high blood pressure)\n",
    "data = data[\n",
    "    data.FIELD_22 != 1\n",
    "]  # exclude people who are on medication for high blood pressure\n",
    "\n",
    "data = data[data.FIELD_17 != 1]  # exclude people who are diagnosed for hyperlipidemia\n",
    "data = data[\n",
    "    data.FIELD_24 != 1\n",
    "]  # exclude people who are on medication for hyperlipidemia\n",
    "\n",
    "print(data.shape)"
   ]
  },
  {
   "cell_type": "code",
   "execution_count": 8,
   "metadata": {},
   "outputs": [
    {
     "name": "stdout",
     "output_type": "stream",
     "text": [
      "(48816, 36)\n"
     ]
    },
    {
     "data": {
      "text/html": [
       "<div>\n",
       "<style scoped>\n",
       "    .dataframe tbody tr th:only-of-type {\n",
       "        vertical-align: middle;\n",
       "    }\n",
       "\n",
       "    .dataframe tbody tr th {\n",
       "        vertical-align: top;\n",
       "    }\n",
       "\n",
       "    .dataframe thead th {\n",
       "        text-align: right;\n",
       "    }\n",
       "</style>\n",
       "<table border=\"1\" class=\"dataframe\">\n",
       "  <thead>\n",
       "    <tr style=\"text-align: right;\">\n",
       "      <th></th>\n",
       "      <th>AGE</th>\n",
       "      <th>FIELD_1</th>\n",
       "      <th>FIELD_15</th>\n",
       "      <th>FIELD_16</th>\n",
       "      <th>FIELD_17</th>\n",
       "      <th>FIELD_2</th>\n",
       "      <th>FIELD_22</th>\n",
       "      <th>FIELD_23</th>\n",
       "      <th>FIELD_24</th>\n",
       "      <th>FIELD_31</th>\n",
       "      <th>...</th>\n",
       "      <th>L190300</th>\n",
       "      <th>L190400</th>\n",
       "      <th>L190500</th>\n",
       "      <th>S000100</th>\n",
       "      <th>S000300</th>\n",
       "      <th>S000501</th>\n",
       "      <th>S000502</th>\n",
       "      <th>SEX</th>\n",
       "      <th>Unnamed: 0</th>\n",
       "      <th>CLASS</th>\n",
       "    </tr>\n",
       "  </thead>\n",
       "  <tbody>\n",
       "    <tr>\n",
       "      <th>2</th>\n",
       "      <td>46.0</td>\n",
       "      <td>64</td>\n",
       "      <td>0.0</td>\n",
       "      <td>0.0</td>\n",
       "      <td>0.0</td>\n",
       "      <td>20150904</td>\n",
       "      <td>0.0</td>\n",
       "      <td>0.0</td>\n",
       "      <td>0.0</td>\n",
       "      <td>0.0</td>\n",
       "      <td>...</td>\n",
       "      <td>4.26</td>\n",
       "      <td>12.9</td>\n",
       "      <td>38.4</td>\n",
       "      <td>159.0</td>\n",
       "      <td>20.2</td>\n",
       "      <td>135.0</td>\n",
       "      <td>82.0</td>\n",
       "      <td>1.0</td>\n",
       "      <td>2</td>\n",
       "      <td>0</td>\n",
       "    </tr>\n",
       "    <tr>\n",
       "      <th>5</th>\n",
       "      <td>52.0</td>\n",
       "      <td>323</td>\n",
       "      <td>0.0</td>\n",
       "      <td>0.0</td>\n",
       "      <td>0.0</td>\n",
       "      <td>20150917</td>\n",
       "      <td>0.0</td>\n",
       "      <td>0.0</td>\n",
       "      <td>0.0</td>\n",
       "      <td>0.0</td>\n",
       "      <td>...</td>\n",
       "      <td>3.92</td>\n",
       "      <td>12.6</td>\n",
       "      <td>38.6</td>\n",
       "      <td>156.0</td>\n",
       "      <td>25.5</td>\n",
       "      <td>111.0</td>\n",
       "      <td>65.0</td>\n",
       "      <td>1.0</td>\n",
       "      <td>5</td>\n",
       "      <td>0</td>\n",
       "    </tr>\n",
       "    <tr>\n",
       "      <th>10</th>\n",
       "      <td>37.0</td>\n",
       "      <td>852</td>\n",
       "      <td>0.0</td>\n",
       "      <td>0.0</td>\n",
       "      <td>0.0</td>\n",
       "      <td>20150427</td>\n",
       "      <td>0.0</td>\n",
       "      <td>0.0</td>\n",
       "      <td>0.0</td>\n",
       "      <td>1.0</td>\n",
       "      <td>...</td>\n",
       "      <td>4.44</td>\n",
       "      <td>13.4</td>\n",
       "      <td>40.0</td>\n",
       "      <td>155.0</td>\n",
       "      <td>21.2</td>\n",
       "      <td>136.0</td>\n",
       "      <td>61.0</td>\n",
       "      <td>1.0</td>\n",
       "      <td>10</td>\n",
       "      <td>0</td>\n",
       "    </tr>\n",
       "    <tr>\n",
       "      <th>11</th>\n",
       "      <td>39.0</td>\n",
       "      <td>981</td>\n",
       "      <td>0.0</td>\n",
       "      <td>0.0</td>\n",
       "      <td>0.0</td>\n",
       "      <td>20160803</td>\n",
       "      <td>0.0</td>\n",
       "      <td>0.0</td>\n",
       "      <td>0.0</td>\n",
       "      <td>0.0</td>\n",
       "      <td>...</td>\n",
       "      <td>4.28</td>\n",
       "      <td>13.6</td>\n",
       "      <td>41.1</td>\n",
       "      <td>165.0</td>\n",
       "      <td>22.0</td>\n",
       "      <td>130.0</td>\n",
       "      <td>77.0</td>\n",
       "      <td>1.0</td>\n",
       "      <td>11</td>\n",
       "      <td>0</td>\n",
       "    </tr>\n",
       "    <tr>\n",
       "      <th>20</th>\n",
       "      <td>59.0</td>\n",
       "      <td>2113</td>\n",
       "      <td>0.0</td>\n",
       "      <td>0.0</td>\n",
       "      <td>0.0</td>\n",
       "      <td>20150311</td>\n",
       "      <td>0.0</td>\n",
       "      <td>0.0</td>\n",
       "      <td>0.0</td>\n",
       "      <td>0.0</td>\n",
       "      <td>...</td>\n",
       "      <td>4.67</td>\n",
       "      <td>14.1</td>\n",
       "      <td>41.3</td>\n",
       "      <td>155.0</td>\n",
       "      <td>24.6</td>\n",
       "      <td>111.0</td>\n",
       "      <td>67.0</td>\n",
       "      <td>1.0</td>\n",
       "      <td>20</td>\n",
       "      <td>0</td>\n",
       "    </tr>\n",
       "  </tbody>\n",
       "</table>\n",
       "<p>5 rows × 36 columns</p>\n",
       "</div>"
      ],
      "text/plain": [
       "     AGE  FIELD_1  FIELD_15  FIELD_16  FIELD_17   FIELD_2  FIELD_22  FIELD_23  \\\n",
       "2   46.0       64       0.0       0.0       0.0  20150904       0.0       0.0   \n",
       "5   52.0      323       0.0       0.0       0.0  20150917       0.0       0.0   \n",
       "10  37.0      852       0.0       0.0       0.0  20150427       0.0       0.0   \n",
       "11  39.0      981       0.0       0.0       0.0  20160803       0.0       0.0   \n",
       "20  59.0     2113       0.0       0.0       0.0  20150311       0.0       0.0   \n",
       "\n",
       "    FIELD_24  FIELD_31  ...  L190300  L190400  L190500  S000100  S000300  \\\n",
       "2        0.0       0.0  ...     4.26     12.9     38.4    159.0     20.2   \n",
       "5        0.0       0.0  ...     3.92     12.6     38.6    156.0     25.5   \n",
       "10       0.0       1.0  ...     4.44     13.4     40.0    155.0     21.2   \n",
       "11       0.0       0.0  ...     4.28     13.6     41.1    165.0     22.0   \n",
       "20       0.0       0.0  ...     4.67     14.1     41.3    155.0     24.6   \n",
       "\n",
       "    S000501  S000502  SEX  Unnamed: 0  CLASS  \n",
       "2     135.0     82.0  1.0           2      0  \n",
       "5     111.0     65.0  1.0           5      0  \n",
       "10    136.0     61.0  1.0          10      0  \n",
       "11    130.0     77.0  1.0          11      0  \n",
       "20    111.0     67.0  1.0          20      0  \n",
       "\n",
       "[5 rows x 36 columns]"
      ]
     },
     "execution_count": 8,
     "metadata": {},
     "output_type": "execute_result"
    }
   ],
   "source": [
    "data = data.dropna()\n",
    "print(data.shape)\n",
    "data.head()"
   ]
  },
  {
   "cell_type": "markdown",
   "metadata": {},
   "source": [
    "2.Predict next year values for this year data\n",
    "===="
   ]
  },
  {
   "cell_type": "code",
   "execution_count": 9,
   "metadata": {},
   "outputs": [],
   "source": [
    "# Load the trained regression models for the next year\n",
    "with open('models/DiabeticModel_nextyear_L100800_RF_regressor',\n",
    "          'rb') as f:\n",
    "    reg_L100800 = pickle.load(f)\n",
    "\n",
    "with open('models/DiabeticModel_nextyear_L104600_RF_regressor',\n",
    "          'rb') as f:\n",
    "    reg_L104600 = pickle.load(f)\n",
    "\n",
    "with open('models/DiabeticModel_nextyear_L103000_RF_regressor',\n",
    "          'rb') as f:\n",
    "    reg_L103000 = pickle.load(f)\n",
    "\n",
    "with open('models/DiabeticModel_nextyear_S000300_RF_regressor',\n",
    "          'rb') as f:\n",
    "    reg_S000300 = pickle.load(f)\n",
    "\n",
    "with open('models/DiabeticModel_nextyear_L101700_RF_regressor',\n",
    "          'rb') as f:\n",
    "    reg_L101700 = pickle.load(f)\n",
    "\n",
    "with open('models/DiabeticModel_nextyear_L100700_RF_regressor',\n",
    "          'rb') as f:\n",
    "    reg_L100700 = pickle.load(f)"
   ]
  },
  {
   "cell_type": "code",
   "execution_count": 10,
   "metadata": {},
   "outputs": [],
   "source": [
    "#    features required to generate next year L104600 value\n",
    "cols_L100800 = [\n",
    "    'L100800', 'S000300', 'L103000', 'L104600', 'AGE', 'L100700',\n",
    "    'L103100', 'L101700', 'L103300', 'L190500', 'L190400', 'L101300'\n",
    "]\n",
    "\n",
    "#    features required to generate next year L104600 value\n",
    "cols_L104600 = [\n",
    "    \"L104600\", \"L100800\", \"S000300\", \"AGE\", \"L101300\", \"S000501\",\n",
    "    \"L101700\", \"S000502\", \"L190000\", \"L101600\", \"L190300\"\n",
    "]\n",
    "\n",
    "#    features required to generate next year L103000 value\n",
    "cols_L103000 = [\n",
    "    \"L103000\", \"L100700\", \"L101700\", \"S000300\", \"S000502\", \"FIELD_33\",\n",
    "    \"L190000\", \"L100800\", \"L101600\", \"S000501\"\n",
    "]\n",
    "\n",
    "#    features required to generate next year S000300 value\n",
    "cols_S000300 = [\n",
    "    \"S000300\", \"L103300\", \"S000501\", \"L100700\", \"SEX\", \"L103100\",\n",
    "    \"L190300\", \"L190400\", \"L101300\", \"S000502\"\n",
    "]\n",
    "\n",
    "#    features required to generate next year L101700 value\n",
    "cols_L101700 = [\n",
    "    \"L101700\", \"L101300\", \"L103000\", \"SEX\", \"L100700\", \"L101200\",\n",
    "    \"S000300\", \"S000501\", \"L100800\", \"S000502\", \"L101600\", \"S000100\"\n",
    "]\n",
    "\n",
    "#    features required to generate next year L100700 value\n",
    "cols_L100700 = [\"L100700\",\"L100500\",\"S000100\",\"S000300\",\"L103300\",\n",
    "        \"L103000\",\"L103100\",\"S000501\",\"L101300\",\"L101700\",\"S000502\",\"L107400\",\n",
    "]"
   ]
  },
  {
   "cell_type": "code",
   "execution_count": 11,
   "metadata": {},
   "outputs": [],
   "source": [
    "N_y_L100800 = np.array(reg_L100800.predict(data[cols_L100800]))\n",
    "N_y_L104600 = np.array(reg_L104600.predict(data[cols_L104600]))\n",
    "N_y_L103000 = list(reg_L103000.predict(data[cols_L103000]))\n",
    "N_y_S000300 = list(reg_S000300.predict(data[cols_S000300]))\n",
    "N_y_L101700 = list(reg_L101700.predict(data[cols_L101700]))\n",
    "N_y_L100700 = list(reg_L100700.predict(data[cols_L100700]))\n",
    "N_y_SEX = list(data['SEX'])\n",
    "N_y_AGE = list((data['AGE'].astype('int')) + 1)\n",
    "N_y_FIELD_33 = list(data['FIELD_33'])\n",
    "N_y_FIELD_38 = list(data['FIELD_38'])\n",
    "N_y_FIELD_40 = list(data['FIELD_40'])\n",
    "N_y_FIELD_31 = list(data['FIELD_31'])"
   ]
  },
  {
   "cell_type": "code",
   "execution_count": null,
   "metadata": {},
   "outputs": [],
   "source": []
  },
  {
   "cell_type": "code",
   "execution_count": 13,
   "metadata": {},
   "outputs": [
    {
     "name": "stdout",
     "output_type": "stream",
     "text": [
      "(48816, 12)\n"
     ]
    },
    {
     "data": {
      "text/html": [
       "<div>\n",
       "<style scoped>\n",
       "    .dataframe tbody tr th:only-of-type {\n",
       "        vertical-align: middle;\n",
       "    }\n",
       "\n",
       "    .dataframe tbody tr th {\n",
       "        vertical-align: top;\n",
       "    }\n",
       "\n",
       "    .dataframe thead th {\n",
       "        text-align: right;\n",
       "    }\n",
       "</style>\n",
       "<table border=\"1\" class=\"dataframe\">\n",
       "  <thead>\n",
       "    <tr style=\"text-align: right;\">\n",
       "      <th></th>\n",
       "      <th>L100800_y</th>\n",
       "      <th>L104600_y</th>\n",
       "      <th>L103000_y</th>\n",
       "      <th>S000300_y</th>\n",
       "      <th>L101700_y</th>\n",
       "      <th>L100700_y</th>\n",
       "      <th>SEX_y</th>\n",
       "      <th>AGE_y</th>\n",
       "      <th>FIELD_33_y</th>\n",
       "      <th>FIELD_38_y</th>\n",
       "      <th>FIELD_40_y</th>\n",
       "      <th>FIELD_31_y</th>\n",
       "    </tr>\n",
       "  </thead>\n",
       "  <tbody>\n",
       "    <tr>\n",
       "      <th>0</th>\n",
       "      <td>86.618660</td>\n",
       "      <td>5.256561</td>\n",
       "      <td>57.550228</td>\n",
       "      <td>20.507421</td>\n",
       "      <td>15.064708</td>\n",
       "      <td>3.909973</td>\n",
       "      <td>1.0</td>\n",
       "      <td>47.0</td>\n",
       "      <td>1.0</td>\n",
       "      <td>2.0</td>\n",
       "      <td>1.0</td>\n",
       "      <td>0.0</td>\n",
       "    </tr>\n",
       "    <tr>\n",
       "      <th>1</th>\n",
       "      <td>92.843062</td>\n",
       "      <td>5.603267</td>\n",
       "      <td>64.464275</td>\n",
       "      <td>25.506644</td>\n",
       "      <td>12.813293</td>\n",
       "      <td>3.725636</td>\n",
       "      <td>1.0</td>\n",
       "      <td>53.0</td>\n",
       "      <td>1.0</td>\n",
       "      <td>0.0</td>\n",
       "      <td>1.0</td>\n",
       "      <td>0.0</td>\n",
       "    </tr>\n",
       "    <tr>\n",
       "      <th>2</th>\n",
       "      <td>89.906903</td>\n",
       "      <td>5.658639</td>\n",
       "      <td>59.964402</td>\n",
       "      <td>21.455616</td>\n",
       "      <td>17.083690</td>\n",
       "      <td>4.047052</td>\n",
       "      <td>1.0</td>\n",
       "      <td>38.0</td>\n",
       "      <td>1.0</td>\n",
       "      <td>0.0</td>\n",
       "      <td>1.0</td>\n",
       "      <td>1.0</td>\n",
       "    </tr>\n",
       "    <tr>\n",
       "      <th>3</th>\n",
       "      <td>89.331473</td>\n",
       "      <td>4.956425</td>\n",
       "      <td>67.876510</td>\n",
       "      <td>21.912773</td>\n",
       "      <td>30.427081</td>\n",
       "      <td>4.383155</td>\n",
       "      <td>1.0</td>\n",
       "      <td>40.0</td>\n",
       "      <td>1.0</td>\n",
       "      <td>2.0</td>\n",
       "      <td>3.0</td>\n",
       "      <td>0.0</td>\n",
       "    </tr>\n",
       "    <tr>\n",
       "      <th>4</th>\n",
       "      <td>93.819919</td>\n",
       "      <td>5.578206</td>\n",
       "      <td>266.969211</td>\n",
       "      <td>24.618922</td>\n",
       "      <td>27.247033</td>\n",
       "      <td>4.788951</td>\n",
       "      <td>1.0</td>\n",
       "      <td>60.0</td>\n",
       "      <td>1.0</td>\n",
       "      <td>0.0</td>\n",
       "      <td>2.0</td>\n",
       "      <td>0.0</td>\n",
       "    </tr>\n",
       "  </tbody>\n",
       "</table>\n",
       "</div>"
      ],
      "text/plain": [
       "   L100800_y  L104600_y   L103000_y  S000300_y  L101700_y  L100700_y  SEX_y  \\\n",
       "0  86.618660   5.256561   57.550228  20.507421  15.064708   3.909973    1.0   \n",
       "1  92.843062   5.603267   64.464275  25.506644  12.813293   3.725636    1.0   \n",
       "2  89.906903   5.658639   59.964402  21.455616  17.083690   4.047052    1.0   \n",
       "3  89.331473   4.956425   67.876510  21.912773  30.427081   4.383155    1.0   \n",
       "4  93.819919   5.578206  266.969211  24.618922  27.247033   4.788951    1.0   \n",
       "\n",
       "   AGE_y  FIELD_33_y  FIELD_38_y  FIELD_40_y  FIELD_31_y  \n",
       "0   47.0         1.0         2.0         1.0         0.0  \n",
       "1   53.0         1.0         0.0         1.0         0.0  \n",
       "2   38.0         1.0         0.0         1.0         1.0  \n",
       "3   40.0         1.0         2.0         3.0         0.0  \n",
       "4   60.0         1.0         0.0         2.0         0.0  "
      ]
     },
     "execution_count": 13,
     "metadata": {},
     "output_type": "execute_result"
    }
   ],
   "source": [
    "# tempdata nextyearpredictedvalue\n",
    "\n",
    "nextyearpredictedvalue=pd.DataFrame([N_y_L100800,N_y_L104600,N_y_L103000,N_y_S000300,N_y_L101700,N_y_L100700, \n",
    "                                     N_y_SEX, N_y_AGE,N_y_FIELD_33,N_y_FIELD_38,N_y_FIELD_40,N_y_FIELD_31]).transpose()\n",
    "nextyearpredictedvalue.columns=['L100800_y', 'L104600_y', 'L103000_y', 'S000300_y', 'L101700_y', 'L100700_y', 'SEX_y', \n",
    "                                'AGE_y', 'FIELD_33_y', 'FIELD_38_y', 'FIELD_40_y', 'FIELD_31_y']\n",
    "print(nextyearpredictedvalue.shape)\n",
    "nextyearpredictedvalue.head()"
   ]
  },
  {
   "cell_type": "code",
   "execution_count": 14,
   "metadata": {},
   "outputs": [
    {
     "data": {
      "text/plain": [
       "(48816, 13)"
      ]
     },
     "execution_count": 14,
     "metadata": {},
     "output_type": "execute_result"
    }
   ],
   "source": [
    "#tempdata2 thisyearactualdata\n",
    "thisyearactualdata=data[[\"L100800\",\"L104600\",\"L103000\",\"S000300\",\"L101700\",\"L100700\",\"FIELD_33\",\n",
    "                          \"FIELD_38\",\"FIELD_40\",\"FIELD_31\",\"SEX\",\"AGE\",\"CLASS\"]]\n",
    "thisyearactualdata=pd.DataFrame(thisyearactualdata.reset_index(drop=True))\n",
    "thisyearactualdata.shape"
   ]
  },
  {
   "cell_type": "code",
   "execution_count": 17,
   "metadata": {},
   "outputs": [],
   "source": [
    "# merge this year data and next year data\n",
    "data=pd.concat([ nextyearpredictedvalue, thisyearactualdata ]  ,axis=1)"
   ]
  },
  {
   "cell_type": "code",
   "execution_count": 18,
   "metadata": {},
   "outputs": [
    {
     "data": {
      "text/plain": [
       "Index(['L100800_y', 'L104600_y', 'L103000_y', 'S000300_y', 'L101700_y',\n",
       "       'L100700_y', 'SEX_y', 'AGE_y', 'FIELD_33_y', 'FIELD_38_y', 'FIELD_40_y',\n",
       "       'FIELD_31_y', 'L100800', 'L104600', 'L103000', 'S000300', 'L101700',\n",
       "       'L100700', 'FIELD_33', 'FIELD_38', 'FIELD_40', 'FIELD_31', 'SEX', 'AGE',\n",
       "       'CLASS'],\n",
       "      dtype='object')"
      ]
     },
     "execution_count": 18,
     "metadata": {},
     "output_type": "execute_result"
    }
   ],
   "source": [
    "data.columns"
   ]
  },
  {
   "cell_type": "code",
   "execution_count": null,
   "metadata": {},
   "outputs": [],
   "source": []
  },
  {
   "cell_type": "code",
   "execution_count": null,
   "metadata": {},
   "outputs": [],
   "source": []
  },
  {
   "cell_type": "markdown",
   "metadata": {},
   "source": [
    "# 2. Downsample the majority class and upsample the minority"
   ]
  },
  {
   "cell_type": "code",
   "execution_count": 19,
   "metadata": {},
   "outputs": [
    {
     "name": "stdout",
     "output_type": "stream",
     "text": [
      "890 14803 33123\n"
     ]
    }
   ],
   "source": [
    "diabetic = data[data.CLASS == 2]\n",
    "prediabetic = data[data.CLASS == 1]\n",
    "normal = data[data.CLASS == 0]\n",
    "\n",
    "print(diabetic.shape[0], prediabetic.shape[0], normal.shape[0])"
   ]
  },
  {
   "cell_type": "code",
   "execution_count": 20,
   "metadata": {},
   "outputs": [
    {
     "data": {
      "text/html": [
       "<div>\n",
       "<style scoped>\n",
       "    .dataframe tbody tr th:only-of-type {\n",
       "        vertical-align: middle;\n",
       "    }\n",
       "\n",
       "    .dataframe tbody tr th {\n",
       "        vertical-align: top;\n",
       "    }\n",
       "\n",
       "    .dataframe thead th {\n",
       "        text-align: right;\n",
       "    }\n",
       "</style>\n",
       "<table border=\"1\" class=\"dataframe\">\n",
       "  <thead>\n",
       "    <tr style=\"text-align: right;\">\n",
       "      <th></th>\n",
       "      <th>L100800_y</th>\n",
       "      <th>L104600_y</th>\n",
       "      <th>L103000_y</th>\n",
       "      <th>S000300_y</th>\n",
       "      <th>L101700_y</th>\n",
       "      <th>L100700_y</th>\n",
       "      <th>SEX_y</th>\n",
       "      <th>AGE_y</th>\n",
       "      <th>FIELD_33_y</th>\n",
       "      <th>FIELD_38_y</th>\n",
       "      <th>...</th>\n",
       "      <th>S000300</th>\n",
       "      <th>L101700</th>\n",
       "      <th>L100700</th>\n",
       "      <th>FIELD_33</th>\n",
       "      <th>FIELD_38</th>\n",
       "      <th>FIELD_40</th>\n",
       "      <th>FIELD_31</th>\n",
       "      <th>SEX</th>\n",
       "      <th>AGE</th>\n",
       "      <th>CLASS</th>\n",
       "    </tr>\n",
       "  </thead>\n",
       "  <tbody>\n",
       "    <tr>\n",
       "      <th>1560</th>\n",
       "      <td>99.098682</td>\n",
       "      <td>5.278025</td>\n",
       "      <td>271.896650</td>\n",
       "      <td>22.156428</td>\n",
       "      <td>54.410741</td>\n",
       "      <td>6.713410</td>\n",
       "      <td>0.0</td>\n",
       "      <td>31.0</td>\n",
       "      <td>2.0</td>\n",
       "      <td>2.0</td>\n",
       "      <td>...</td>\n",
       "      <td>21.9</td>\n",
       "      <td>50.0</td>\n",
       "      <td>6.7</td>\n",
       "      <td>2.0</td>\n",
       "      <td>2.0</td>\n",
       "      <td>0.0</td>\n",
       "      <td>0.0</td>\n",
       "      <td>0.0</td>\n",
       "      <td>30.0</td>\n",
       "      <td>2</td>\n",
       "    </tr>\n",
       "    <tr>\n",
       "      <th>1688</th>\n",
       "      <td>216.705346</td>\n",
       "      <td>9.706181</td>\n",
       "      <td>1108.958395</td>\n",
       "      <td>31.293427</td>\n",
       "      <td>190.948083</td>\n",
       "      <td>7.724006</td>\n",
       "      <td>0.0</td>\n",
       "      <td>32.0</td>\n",
       "      <td>3.0</td>\n",
       "      <td>2.0</td>\n",
       "      <td>...</td>\n",
       "      <td>31.0</td>\n",
       "      <td>211.0</td>\n",
       "      <td>7.5</td>\n",
       "      <td>3.0</td>\n",
       "      <td>2.0</td>\n",
       "      <td>0.0</td>\n",
       "      <td>0.0</td>\n",
       "      <td>0.0</td>\n",
       "      <td>31.0</td>\n",
       "      <td>2</td>\n",
       "    </tr>\n",
       "    <tr>\n",
       "      <th>2057</th>\n",
       "      <td>203.361763</td>\n",
       "      <td>11.035698</td>\n",
       "      <td>110.927532</td>\n",
       "      <td>28.788534</td>\n",
       "      <td>29.626674</td>\n",
       "      <td>6.875013</td>\n",
       "      <td>0.0</td>\n",
       "      <td>32.0</td>\n",
       "      <td>1.0</td>\n",
       "      <td>2.0</td>\n",
       "      <td>...</td>\n",
       "      <td>28.7</td>\n",
       "      <td>27.0</td>\n",
       "      <td>7.1</td>\n",
       "      <td>1.0</td>\n",
       "      <td>2.0</td>\n",
       "      <td>5.0</td>\n",
       "      <td>1.0</td>\n",
       "      <td>0.0</td>\n",
       "      <td>31.0</td>\n",
       "      <td>2</td>\n",
       "    </tr>\n",
       "    <tr>\n",
       "      <th>2254</th>\n",
       "      <td>116.843656</td>\n",
       "      <td>5.755867</td>\n",
       "      <td>164.451959</td>\n",
       "      <td>29.202946</td>\n",
       "      <td>25.082110</td>\n",
       "      <td>6.603342</td>\n",
       "      <td>0.0</td>\n",
       "      <td>34.0</td>\n",
       "      <td>1.0</td>\n",
       "      <td>0.0</td>\n",
       "      <td>...</td>\n",
       "      <td>29.4</td>\n",
       "      <td>25.0</td>\n",
       "      <td>6.6</td>\n",
       "      <td>1.0</td>\n",
       "      <td>0.0</td>\n",
       "      <td>0.0</td>\n",
       "      <td>1.0</td>\n",
       "      <td>0.0</td>\n",
       "      <td>33.0</td>\n",
       "      <td>2</td>\n",
       "    </tr>\n",
       "    <tr>\n",
       "      <th>2573</th>\n",
       "      <td>120.968464</td>\n",
       "      <td>6.374726</td>\n",
       "      <td>294.633841</td>\n",
       "      <td>32.018535</td>\n",
       "      <td>56.657627</td>\n",
       "      <td>6.528172</td>\n",
       "      <td>0.0</td>\n",
       "      <td>33.0</td>\n",
       "      <td>1.0</td>\n",
       "      <td>1.0</td>\n",
       "      <td>...</td>\n",
       "      <td>31.9</td>\n",
       "      <td>56.0</td>\n",
       "      <td>6.4</td>\n",
       "      <td>1.0</td>\n",
       "      <td>1.0</td>\n",
       "      <td>1.0</td>\n",
       "      <td>0.0</td>\n",
       "      <td>0.0</td>\n",
       "      <td>32.0</td>\n",
       "      <td>2</td>\n",
       "    </tr>\n",
       "  </tbody>\n",
       "</table>\n",
       "<p>5 rows × 25 columns</p>\n",
       "</div>"
      ],
      "text/plain": [
       "       L100800_y  L104600_y    L103000_y  S000300_y   L101700_y  L100700_y  \\\n",
       "1560   99.098682   5.278025   271.896650  22.156428   54.410741   6.713410   \n",
       "1688  216.705346   9.706181  1108.958395  31.293427  190.948083   7.724006   \n",
       "2057  203.361763  11.035698   110.927532  28.788534   29.626674   6.875013   \n",
       "2254  116.843656   5.755867   164.451959  29.202946   25.082110   6.603342   \n",
       "2573  120.968464   6.374726   294.633841  32.018535   56.657627   6.528172   \n",
       "\n",
       "      SEX_y  AGE_y  FIELD_33_y  FIELD_38_y  ...  S000300  L101700  L100700  \\\n",
       "1560    0.0   31.0         2.0         2.0  ...     21.9     50.0      6.7   \n",
       "1688    0.0   32.0         3.0         2.0  ...     31.0    211.0      7.5   \n",
       "2057    0.0   32.0         1.0         2.0  ...     28.7     27.0      7.1   \n",
       "2254    0.0   34.0         1.0         0.0  ...     29.4     25.0      6.6   \n",
       "2573    0.0   33.0         1.0         1.0  ...     31.9     56.0      6.4   \n",
       "\n",
       "      FIELD_33  FIELD_38  FIELD_40  FIELD_31  SEX   AGE  CLASS  \n",
       "1560       2.0       2.0       0.0       0.0  0.0  30.0      2  \n",
       "1688       3.0       2.0       0.0       0.0  0.0  31.0      2  \n",
       "2057       1.0       2.0       5.0       1.0  0.0  31.0      2  \n",
       "2254       1.0       0.0       0.0       1.0  0.0  33.0      2  \n",
       "2573       1.0       1.0       1.0       0.0  0.0  32.0      2  \n",
       "\n",
       "[5 rows x 25 columns]"
      ]
     },
     "execution_count": 20,
     "metadata": {},
     "output_type": "execute_result"
    }
   ],
   "source": [
    "import random\n",
    "\n",
    "r = random.Random()\n",
    "r.seed(42)\n",
    "tempdatasize = 10000\n",
    "\n",
    "# extremeDiabetesdata = prediabetic.sample(\n",
    "#     tempdatasize, random_state=randomseed\n",
    "# ).reset_index(drop=True)\n",
    "\n",
    "extremeDiabetesdata = pd.concat([diabetic, diabetic, diabetic, diabetic])\n",
    "# fpgnewadditionalvalues=r.sample(range(30, 200), tempdatasize)\n",
    "# hbalcnewadditionalvalues=r.sample(range(1, 15), tempdatasize)\n",
    "\n",
    "fpgnewadditionalvalues = []\n",
    "hbalcnewadditionalvalues = []\n",
    "extremeDiabetesdata.head()"
   ]
  },
  {
   "cell_type": "code",
   "execution_count": 21,
   "metadata": {
    "scrolled": true
   },
   "outputs": [],
   "source": [
    "for i in range(extremeDiabetesdata.shape[0]):\n",
    "    fpgnewadditionalvalues.append(r.randint(30, 200))\n",
    "    hbalcnewadditionalvalues.append(r.randint(10, 150) / 10)\n",
    "\n",
    "    extremeDiabetesdata.iloc[i, 0] = (\n",
    "        extremeDiabetesdata.iloc[i, 0] + fpgnewadditionalvalues[i]\n",
    "    )\n",
    "\n",
    "    extremeDiabetesdata.iloc[i, 1] = (\n",
    "        extremeDiabetesdata.iloc[i, 1] + hbalcnewadditionalvalues[i]\n",
    "    )"
   ]
  },
  {
   "cell_type": "code",
   "execution_count": 22,
   "metadata": {},
   "outputs": [],
   "source": [
    "diabetic = pd.concat([diabetic, extremeDiabetesdata])"
   ]
  },
  {
   "cell_type": "code",
   "execution_count": null,
   "metadata": {},
   "outputs": [],
   "source": []
  },
  {
   "cell_type": "code",
   "execution_count": 23,
   "metadata": {},
   "outputs": [],
   "source": [
    "diabetic_test = diabetic.sample(200, random_state=randomseed)\n",
    "prediabetic_test = prediabetic.sample(200, random_state=randomseed)\n",
    "normal_test = normal.sample(200, random_state=randomseed)\n",
    "test = pd.concat([diabetic_test, prediabetic_test, normal_test])\n",
    "\n",
    "diabetic_train = diabetic.drop(diabetic_test.index)\n",
    "prediabetic_train = prediabetic.drop(prediabetic_test.index)\n",
    "# .sample(\n",
    "#     10 * diabetic_train.shape[0], random_state=randomseed\n",
    "# )\n",
    "normal_train = normal.drop(normal_test.index).sample(\n",
    "    prediabetic_train.shape[0],\n",
    "    random_state=randomseed\n",
    "    #     10 * diabetic_train.shape[0], random_state=randomseed\n",
    ")\n",
    "train = pd.concat([diabetic_train, diabetic_train, prediabetic_train, normal_train])"
   ]
  },
  {
   "cell_type": "code",
   "execution_count": 24,
   "metadata": {},
   "outputs": [],
   "source": [
    "xtrain = train.iloc[:, :-1]\n",
    "ytrain = train.iloc[:, -1]\n",
    "xtest = test.iloc[:, :-1]\n",
    "ytest = test.iloc[:, -1]"
   ]
  },
  {
   "cell_type": "code",
   "execution_count": 26,
   "metadata": {},
   "outputs": [],
   "source": [
    "# from sklearn.preprocessing import MinMaxScaler\n",
    "\n",
    "# scaler = MinMaxScaler()\n",
    "# xtrain = scaler.fit_transform(xtrain)\n",
    "# xtest = scaler.transform(xtest)"
   ]
  },
  {
   "cell_type": "code",
   "execution_count": 27,
   "metadata": {},
   "outputs": [
    {
     "name": "stdout",
     "output_type": "stream",
     "text": [
      "Resampled dataset shape Counter({2: 14603, 1: 14603, 0: 14603})\n",
      "14603 14603 14603\n",
      "(43809, 24) (43809,)\n"
     ]
    }
   ],
   "source": [
    "from imblearn.over_sampling import SMOTE, SMOTENC  # doctest: +NORMALIZE_WHITESPACE\n",
    "\n",
    "randomseed = 42\n",
    "\n",
    "sm = SMOTE(\n",
    "    random_state=randomseed,\n",
    "    sampling_strategy=\"minority\",\n",
    ")\n",
    "X_res, y_res = sm.fit_resample(np.array(xtrain), np.array(ytrain))\n",
    "\n",
    "print(\"Resampled dataset shape %s\" % Counter(y_res))\n",
    "print(\n",
    "    y_res[y_res == 0].shape[0], y_res[y_res == 1].shape[0], y_res[y_res == 2].shape[0]\n",
    ")\n",
    "print(X_res.shape, y_res.shape)\n",
    "\n",
    "xtrain = X_res\n",
    "ytrain = y_res"
   ]
  },
  {
   "cell_type": "markdown",
   "metadata": {},
   "source": [
    "# 3. Generate the classifier models based on the selected 12 features"
   ]
  },
  {
   "cell_type": "markdown",
   "metadata": {},
   "source": [
    "# 3.1.  Features : 12"
   ]
  },
  {
   "cell_type": "markdown",
   "metadata": {},
   "source": [
    "# a. Random forest"
   ]
  },
  {
   "cell_type": "code",
   "execution_count": 28,
   "metadata": {
    "scrolled": true
   },
   "outputs": [],
   "source": [
    "# from sklearn.model_selection import GridSearchCV\n",
    "# from sklearn.ensemble import RandomForestClassifier\n",
    "\n",
    "# parameters = {\n",
    "#     \"max_features\": (\"auto\", \"sqrt\", \"log2\"),\n",
    "#     \"n_estimators\": [10, 100, 200, 700],\n",
    "#     \"max_depth\": [2, 8, 10],\n",
    "#     \"min_samples_split\": [2, 8, 12],\n",
    "#     \"min_samples_leaf\": [2, 8, 12],\n",
    "#     \"criterion\": [\"gini\", \"entropy\"],\n",
    "# }\n",
    "\n",
    "# rf_clf = RandomForestClassifier(n_jobs=-1, verbose=1)\n",
    "# rf_clf = GridSearchCV(rf_clf, parameters)\n",
    "# rf_clf.fit(xtrain, ytrain)"
   ]
  },
  {
   "cell_type": "code",
   "execution_count": 29,
   "metadata": {},
   "outputs": [],
   "source": [
    "# rf_clf.best_estimator_"
   ]
  },
  {
   "cell_type": "code",
   "execution_count": 30,
   "metadata": {},
   "outputs": [],
   "source": [
    "rf_12 = RandomForestClassifier(\n",
    "    random_state=randomseed,\n",
    "    n_estimators=100,\n",
    "    max_depth=12,\n",
    "    min_samples_split=2,\n",
    "    min_samples_leaf=10,\n",
    "    max_features=\"auto\",\n",
    ")\n",
    "\n",
    "# # rf_12=rf_clf.best_estimator_\n",
    "# rf_12 = RandomForestClassifier(\n",
    "#     bootstrap=True,\n",
    "#     class_weight=None,\n",
    "#     criterion=\"gini\",\n",
    "#     max_depth=10,\n",
    "#     max_features=\"log2\",\n",
    "#     max_leaf_nodes=None,\n",
    "#     min_impurity_decrease=0.0,\n",
    "#     min_impurity_split=None,\n",
    "#     min_samples_leaf=2,\n",
    "#     min_samples_split=12,\n",
    "#     min_weight_fraction_leaf=0.0,\n",
    "#     n_estimators=100,\n",
    "#     n_jobs=-1,\n",
    "#     oob_score=False,\n",
    "#     random_state=None,\n",
    "#     verbose=1,\n",
    "#     warm_start=False,\n",
    "# )"
   ]
  },
  {
   "cell_type": "code",
   "execution_count": 31,
   "metadata": {},
   "outputs": [
    {
     "data": {
      "text/plain": [
       "RandomForestClassifier(max_depth=12, min_samples_leaf=10, random_state=42)"
      ]
     },
     "execution_count": 31,
     "metadata": {},
     "output_type": "execute_result"
    }
   ],
   "source": [
    "rf_12.fit(xtrain, ytrain)"
   ]
  },
  {
   "cell_type": "code",
   "execution_count": 32,
   "metadata": {},
   "outputs": [
    {
     "name": "stdout",
     "output_type": "stream",
     "text": [
      "Accuracy =  0.7616666666666667\n"
     ]
    }
   ],
   "source": [
    "ypred = rf_12.predict(xtest)\n",
    "print(\"Accuracy = \", m.accuracy_score(ytest, ypred))"
   ]
  },
  {
   "cell_type": "code",
   "execution_count": 33,
   "metadata": {},
   "outputs": [],
   "source": [
    "import pickle\n",
    "\n",
    "pickle.dump(rf_12, open(\"_DiabeticClassifierModelForNextYear_rf_model_mf2\", \"wb\"))"
   ]
  },
  {
   "cell_type": "code",
   "execution_count": 34,
   "metadata": {},
   "outputs": [
    {
     "data": {
      "image/png": "[encoded data removed]",
      "text/plain": [
       "<Figure size 432x288 with 1 Axes>"
      ]
     },
     "metadata": {
      "needs_background": "light"
     },
     "output_type": "display_data"
    },
    {
     "name": "stdout",
     "output_type": "stream",
     "text": [
      "Index(['L100800_y', 'L104600_y', 'L100800', 'L104600', 'L103000_y',\n",
      "       'L101700_y', 'S000300_y', 'L101700', 'L103000', 'S000300', 'L100700_y',\n",
      "       'AGE', 'AGE_y', 'SEX_y', 'SEX', 'L100700'],\n",
      "      dtype='object')\n",
      "[0.34532204 0.20546186 0.16098597 0.10227404 0.02910033 0.02801636\n",
      " 0.0196087  0.01944125 0.01243235 0.01029482 0.0083129  0.00807901\n",
      " 0.00775865 0.00750857 0.00695022 0.00586942]\n"
     ]
    }
   ],
   "source": [
    "feat_importances = pd.Series(\n",
    "    rf_12.feature_importances_, index=data.iloc[:, :-1].columns\n",
    ")\n",
    "feat_importances.nlargest(16).plot(kind=\"barh\")\n",
    "plt.show()\n",
    "\n",
    "print(feat_importances.nlargest(16).index)\n",
    "print(feat_importances.nlargest(16).values)"
   ]
  },
  {
   "cell_type": "code",
   "execution_count": 35,
   "metadata": {},
   "outputs": [
    {
     "data": {
      "text/html": [
       "<div>\n",
       "<style scoped>\n",
       "    .dataframe tbody tr th:only-of-type {\n",
       "        vertical-align: middle;\n",
       "    }\n",
       "\n",
       "    .dataframe tbody tr th {\n",
       "        vertical-align: top;\n",
       "    }\n",
       "\n",
       "    .dataframe thead th {\n",
       "        text-align: right;\n",
       "    }\n",
       "</style>\n",
       "<table border=\"1\" class=\"dataframe\">\n",
       "  <thead>\n",
       "    <tr style=\"text-align: right;\">\n",
       "      <th></th>\n",
       "      <th>Normal</th>\n",
       "      <th>Prediabetes</th>\n",
       "      <th>diabetes</th>\n",
       "    </tr>\n",
       "  </thead>\n",
       "  <tbody>\n",
       "    <tr>\n",
       "      <th>Normal</th>\n",
       "      <td>135</td>\n",
       "      <td>65</td>\n",
       "      <td>0</td>\n",
       "    </tr>\n",
       "    <tr>\n",
       "      <th>Prediabetes</th>\n",
       "      <td>60</td>\n",
       "      <td>135</td>\n",
       "      <td>5</td>\n",
       "    </tr>\n",
       "    <tr>\n",
       "      <th>diabetes</th>\n",
       "      <td>0</td>\n",
       "      <td>13</td>\n",
       "      <td>187</td>\n",
       "    </tr>\n",
       "  </tbody>\n",
       "</table>\n",
       "</div>"
      ],
      "text/plain": [
       "             Normal  Prediabetes  diabetes\n",
       "Normal          135           65         0\n",
       "Prediabetes      60          135         5\n",
       "diabetes          0           13       187"
      ]
     },
     "execution_count": 35,
     "metadata": {},
     "output_type": "execute_result"
    }
   ],
   "source": [
    "confmatrx = pd.DataFrame(\n",
    "    m.confusion_matrix(ytest, ypred),\n",
    "    columns=[\"Normal\", \"Prediabetes\", \"diabetes\"],\n",
    "    index=[\"Normal\", \"Prediabetes\", \"diabetes\"],\n",
    ")\n",
    "confmatrx.head()"
   ]
  },
  {
   "cell_type": "code",
   "execution_count": 36,
   "metadata": {},
   "outputs": [
    {
     "name": "stdout",
     "output_type": "stream",
     "text": [
      "              precision    recall  f1-score   support\n",
      "\n",
      "           0       0.69      0.68      0.68       200\n",
      "           1       0.63      0.68      0.65       200\n",
      "           2       0.97      0.94      0.95       200\n",
      "\n",
      "    accuracy                           0.76       600\n",
      "   macro avg       0.77      0.76      0.76       600\n",
      "weighted avg       0.77      0.76      0.76       600\n",
      "\n"
     ]
    }
   ],
   "source": [
    "print(m.classification_report(ytest, ypred))"
   ]
  },
  {
   "cell_type": "code",
   "execution_count": 24,
   "metadata": {
    "scrolled": true
   },
   "outputs": [
    {
     "name": "stdout",
     "output_type": "stream",
     "text": [
      "Accuracy: 0.77 (+/- 0.06) [RandomForestClassifier] \n",
      " [[0.61964981 0.7729572  0.73501946 0.8096906  0.81222028 0.80618797\n",
      " 0.80404748 0.78770189 0.79042615 0.77408056]]\n"
     ]
    },
    {
     "data": {
      "application/javascript": [
       "\n",
       "            setTimeout(function() {\n",
       "                var nbb_cell_id = 24;\n",
       "                var nbb_unformatted_code = \"from sklearn import model_selection\\n\\nscores = model_selection.cross_val_score(\\n    rf_12, xtrain, ytrain, cv=10, scoring=\\\"accuracy\\\"\\n)\\nprint(\\n    \\\"Accuracy: %0.2f (+/- %0.2f) [%s] \\\\n [%s]\\\"\\n    % (scores.mean(), scores.std(), \\\"RandomForestClassifier\\\", scores)\\n)\";\n",
       "                var nbb_formatted_code = \"from sklearn import model_selection\\n\\nscores = model_selection.cross_val_score(\\n    rf_12, xtrain, ytrain, cv=10, scoring=\\\"accuracy\\\"\\n)\\nprint(\\n    \\\"Accuracy: %0.2f (+/- %0.2f) [%s] \\\\n [%s]\\\"\\n    % (scores.mean(), scores.std(), \\\"RandomForestClassifier\\\", scores)\\n)\";\n",
       "                var nbb_cells = Jupyter.notebook.get_cells();\n",
       "                for (var i = 0; i < nbb_cells.length; ++i) {\n",
       "                    if (nbb_cells[i].input_prompt_number == nbb_cell_id) {\n",
       "                        if (nbb_cells[i].get_text() == nbb_unformatted_code) {\n",
       "                             nbb_cells[i].set_text(nbb_formatted_code);\n",
       "                        }\n",
       "                        break;\n",
       "                    }\n",
       "                }\n",
       "            }, 500);\n",
       "            "
      ],
      "text/plain": [
       "<IPython.core.display.Javascript object>"
      ]
     },
     "metadata": {},
     "output_type": "display_data"
    }
   ],
   "source": [
    "from sklearn import model_selection\n",
    "\n",
    "scores = model_selection.cross_val_score(\n",
    "    rf_12, xtrain, ytrain, cv=10, scoring=\"accuracy\"\n",
    ")\n",
    "print(\n",
    "    \"Accuracy: %0.2f (+/- %0.2f) [%s] \\n [%s]\"\n",
    "    % (scores.mean(), scores.std(), \"RandomForestClassifier\", scores)\n",
    ")"
   ]
  },
  {
   "cell_type": "markdown",
   "metadata": {},
   "source": [
    "# b. XGBOOST "
   ]
  },
  {
   "cell_type": "code",
   "execution_count": 20,
   "metadata": {
    "scrolled": true
   },
   "outputs": [
    {
     "name": "stdout",
     "output_type": "stream",
     "text": [
      "Fitting 3 folds for each of 10 candidates, totalling 30 fits\n",
      "[CV] n_estimators=100, min_child_weight=5, max_depth=8, learning_rate=0.05, gamma=0.2, colsample_bytree=0.4 \n"
     ]
    },
    {
     "name": "stderr",
     "output_type": "stream",
     "text": [
      "[Parallel(n_jobs=1)]: Using backend SequentialBackend with 1 concurrent workers.\n"
     ]
    },
    {
     "name": "stdout",
     "output_type": "stream",
     "text": [
      "[CV]  n_estimators=100, min_child_weight=5, max_depth=8, learning_rate=0.05, gamma=0.2, colsample_bytree=0.4, total=   6.6s\n",
      "[CV] n_estimators=100, min_child_weight=5, max_depth=8, learning_rate=0.05, gamma=0.2, colsample_bytree=0.4 \n"
     ]
    },
    {
     "name": "stderr",
     "output_type": "stream",
     "text": [
      "[Parallel(n_jobs=1)]: Done   1 out of   1 | elapsed:    6.5s remaining:    0.0s\n"
     ]
    },
    {
     "name": "stdout",
     "output_type": "stream",
     "text": [
      "[CV]  n_estimators=100, min_child_weight=5, max_depth=8, learning_rate=0.05, gamma=0.2, colsample_bytree=0.4, total=   6.5s\n",
      "[CV] n_estimators=100, min_child_weight=5, max_depth=8, learning_rate=0.05, gamma=0.2, colsample_bytree=0.4 \n",
      "[CV]  n_estimators=100, min_child_weight=5, max_depth=8, learning_rate=0.05, gamma=0.2, colsample_bytree=0.4, total=   6.3s\n",
      "[CV] n_estimators=700, min_child_weight=3, max_depth=10, learning_rate=0.25, gamma=0.0, colsample_bytree=0.3 \n",
      "[CV]  n_estimators=700, min_child_weight=3, max_depth=10, learning_rate=0.25, gamma=0.0, colsample_bytree=0.3, total=  43.8s\n",
      "[CV] n_estimators=700, min_child_weight=3, max_depth=10, learning_rate=0.25, gamma=0.0, colsample_bytree=0.3 \n",
      "[CV]  n_estimators=700, min_child_weight=3, max_depth=10, learning_rate=0.25, gamma=0.0, colsample_bytree=0.3, total=  43.1s\n",
      "[CV] n_estimators=700, min_child_weight=3, max_depth=10, learning_rate=0.25, gamma=0.0, colsample_bytree=0.3 \n",
      "[CV]  n_estimators=700, min_child_weight=3, max_depth=10, learning_rate=0.25, gamma=0.0, colsample_bytree=0.3, total=  42.5s\n",
      "[CV] n_estimators=700, min_child_weight=3, max_depth=8, learning_rate=0.25, gamma=0.0, colsample_bytree=0.5 \n",
      "[CV]  n_estimators=700, min_child_weight=3, max_depth=8, learning_rate=0.25, gamma=0.0, colsample_bytree=0.5, total=  51.0s\n",
      "[CV] n_estimators=700, min_child_weight=3, max_depth=8, learning_rate=0.25, gamma=0.0, colsample_bytree=0.5 \n",
      "[CV]  n_estimators=700, min_child_weight=3, max_depth=8, learning_rate=0.25, gamma=0.0, colsample_bytree=0.5, total=  50.0s\n",
      "[CV] n_estimators=700, min_child_weight=3, max_depth=8, learning_rate=0.25, gamma=0.0, colsample_bytree=0.5 \n",
      "[CV]  n_estimators=700, min_child_weight=3, max_depth=8, learning_rate=0.25, gamma=0.0, colsample_bytree=0.5, total=  50.3s\n",
      "[CV] n_estimators=100, min_child_weight=1, max_depth=2, learning_rate=0.25, gamma=0.0, colsample_bytree=0.3 \n",
      "[CV]  n_estimators=100, min_child_weight=1, max_depth=2, learning_rate=0.25, gamma=0.0, colsample_bytree=0.3, total=   2.3s\n",
      "[CV] n_estimators=100, min_child_weight=1, max_depth=2, learning_rate=0.25, gamma=0.0, colsample_bytree=0.3 \n",
      "[CV]  n_estimators=100, min_child_weight=1, max_depth=2, learning_rate=0.25, gamma=0.0, colsample_bytree=0.3, total=   2.3s\n",
      "[CV] n_estimators=100, min_child_weight=1, max_depth=2, learning_rate=0.25, gamma=0.0, colsample_bytree=0.3 \n",
      "[CV]  n_estimators=100, min_child_weight=1, max_depth=2, learning_rate=0.25, gamma=0.0, colsample_bytree=0.3, total=   2.3s\n",
      "[CV] n_estimators=700, min_child_weight=3, max_depth=2, learning_rate=0.15, gamma=0.0, colsample_bytree=0.4 \n",
      "[CV]  n_estimators=700, min_child_weight=3, max_depth=2, learning_rate=0.15, gamma=0.0, colsample_bytree=0.4, total=  16.9s\n",
      "[CV] n_estimators=700, min_child_weight=3, max_depth=2, learning_rate=0.15, gamma=0.0, colsample_bytree=0.4 \n",
      "[CV]  n_estimators=700, min_child_weight=3, max_depth=2, learning_rate=0.15, gamma=0.0, colsample_bytree=0.4, total=  16.9s\n",
      "[CV] n_estimators=700, min_child_weight=3, max_depth=2, learning_rate=0.15, gamma=0.0, colsample_bytree=0.4 \n",
      "[CV]  n_estimators=700, min_child_weight=3, max_depth=2, learning_rate=0.15, gamma=0.0, colsample_bytree=0.4, total=  16.9s\n",
      "[CV] n_estimators=700, min_child_weight=5, max_depth=2, learning_rate=0.25, gamma=0.0, colsample_bytree=0.4 \n",
      "[CV]  n_estimators=700, min_child_weight=5, max_depth=2, learning_rate=0.25, gamma=0.0, colsample_bytree=0.4, total=  16.9s\n",
      "[CV] n_estimators=700, min_child_weight=5, max_depth=2, learning_rate=0.25, gamma=0.0, colsample_bytree=0.4 \n",
      "[CV]  n_estimators=700, min_child_weight=5, max_depth=2, learning_rate=0.25, gamma=0.0, colsample_bytree=0.4, total=  16.7s\n",
      "[CV] n_estimators=700, min_child_weight=5, max_depth=2, learning_rate=0.25, gamma=0.0, colsample_bytree=0.4 \n",
      "[CV]  n_estimators=700, min_child_weight=5, max_depth=2, learning_rate=0.25, gamma=0.0, colsample_bytree=0.4, total=  16.7s\n",
      "[CV] n_estimators=700, min_child_weight=5, max_depth=8, learning_rate=0.25, gamma=0.2, colsample_bytree=0.3 \n",
      "[CV]  n_estimators=700, min_child_weight=5, max_depth=8, learning_rate=0.25, gamma=0.2, colsample_bytree=0.3, total=  34.7s\n",
      "[CV] n_estimators=700, min_child_weight=5, max_depth=8, learning_rate=0.25, gamma=0.2, colsample_bytree=0.3 \n",
      "[CV]  n_estimators=700, min_child_weight=5, max_depth=8, learning_rate=0.25, gamma=0.2, colsample_bytree=0.3, total=  34.2s\n",
      "[CV] n_estimators=700, min_child_weight=5, max_depth=8, learning_rate=0.25, gamma=0.2, colsample_bytree=0.3 \n",
      "[CV]  n_estimators=700, min_child_weight=5, max_depth=8, learning_rate=0.25, gamma=0.2, colsample_bytree=0.3, total=  34.3s\n",
      "[CV] n_estimators=700, min_child_weight=3, max_depth=2, learning_rate=0.05, gamma=0.4, colsample_bytree=0.4 \n",
      "[CV]  n_estimators=700, min_child_weight=3, max_depth=2, learning_rate=0.05, gamma=0.4, colsample_bytree=0.4, total=  16.9s\n",
      "[CV] n_estimators=700, min_child_weight=3, max_depth=2, learning_rate=0.05, gamma=0.4, colsample_bytree=0.4 \n",
      "[CV]  n_estimators=700, min_child_weight=3, max_depth=2, learning_rate=0.05, gamma=0.4, colsample_bytree=0.4, total=  16.9s\n",
      "[CV] n_estimators=700, min_child_weight=3, max_depth=2, learning_rate=0.05, gamma=0.4, colsample_bytree=0.4 \n",
      "[CV]  n_estimators=700, min_child_weight=3, max_depth=2, learning_rate=0.05, gamma=0.4, colsample_bytree=0.4, total=  16.8s\n",
      "[CV] n_estimators=700, min_child_weight=5, max_depth=8, learning_rate=0.05, gamma=0.4, colsample_bytree=0.3 \n",
      "[CV]  n_estimators=700, min_child_weight=5, max_depth=8, learning_rate=0.05, gamma=0.4, colsample_bytree=0.3, total=  36.2s\n",
      "[CV] n_estimators=700, min_child_weight=5, max_depth=8, learning_rate=0.05, gamma=0.4, colsample_bytree=0.3 \n",
      "[CV]  n_estimators=700, min_child_weight=5, max_depth=8, learning_rate=0.05, gamma=0.4, colsample_bytree=0.3, total=  36.2s\n",
      "[CV] n_estimators=700, min_child_weight=5, max_depth=8, learning_rate=0.05, gamma=0.4, colsample_bytree=0.3 \n",
      "[CV]  n_estimators=700, min_child_weight=5, max_depth=8, learning_rate=0.05, gamma=0.4, colsample_bytree=0.3, total=  36.0s\n",
      "[CV] n_estimators=100, min_child_weight=3, max_depth=2, learning_rate=0.25, gamma=0.0, colsample_bytree=0.4 \n",
      "[CV]  n_estimators=100, min_child_weight=3, max_depth=2, learning_rate=0.25, gamma=0.0, colsample_bytree=0.4, total=   2.4s\n",
      "[CV] n_estimators=100, min_child_weight=3, max_depth=2, learning_rate=0.25, gamma=0.0, colsample_bytree=0.4 \n",
      "[CV]  n_estimators=100, min_child_weight=3, max_depth=2, learning_rate=0.25, gamma=0.0, colsample_bytree=0.4, total=   2.5s\n",
      "[CV] n_estimators=100, min_child_weight=3, max_depth=2, learning_rate=0.25, gamma=0.0, colsample_bytree=0.4 \n",
      "[CV]  n_estimators=100, min_child_weight=3, max_depth=2, learning_rate=0.25, gamma=0.0, colsample_bytree=0.4, total=   2.4s\n"
     ]
    },
    {
     "name": "stderr",
     "output_type": "stream",
     "text": [
      "[Parallel(n_jobs=1)]: Done  30 out of  30 | elapsed: 11.3min finished\n"
     ]
    },
    {
     "data": {
      "text/plain": [
       "XGBClassifier(base_score=0.5, booster='gbtree', colsample_bylevel=1,\n",
       "              colsample_bynode=1, colsample_bytree=0.3, gamma=0.4,\n",
       "              learning_rate=0.05, max_delta_step=0, max_depth=8,\n",
       "              min_child_weight=5, missing=None, n_estimators=700, n_jobs=1,\n",
       "              nthread=None, objective='multi:softprob', random_state=0,\n",
       "              reg_alpha=0, reg_lambda=1, scale_pos_weight=1, seed=None,\n",
       "              silent=None, subsample=1, verbosity=1)"
      ]
     },
     "execution_count": 20,
     "metadata": {},
     "output_type": "execute_result"
    },
    {
     "data": {
      "application/javascript": [
       "\n",
       "            setTimeout(function() {\n",
       "                var nbb_cell_id = 20;\n",
       "                var nbb_unformatted_code = \"parameters = {\\n    \\\"max_depth\\\": [2, 8, 10],\\n    \\\"n_estimators\\\": [10, 100, 700],\\n    \\\"learning_rate\\\": [0.05, 0.15, 0.25],\\n    \\\"min_child_weight\\\": [1, 3, 5],\\n    \\\"gamma\\\": [0.0, 0.2, 0.4],\\n    \\\"colsample_bytree\\\": [0.3, 0.4, 0.5],\\n}\\nxgb_clf = xgb.XGBClassifier()\\nxgb_clf = RandomizedSearchCV(xgb_clf, parameters, verbose=2)\\nxgb_clf.fit(xtrain, ytrain)\\nxgb_clf.best_estimator_\";\n",
       "                var nbb_formatted_code = \"parameters = {\\n    \\\"max_depth\\\": [2, 8, 10],\\n    \\\"n_estimators\\\": [10, 100, 700],\\n    \\\"learning_rate\\\": [0.05, 0.15, 0.25],\\n    \\\"min_child_weight\\\": [1, 3, 5],\\n    \\\"gamma\\\": [0.0, 0.2, 0.4],\\n    \\\"colsample_bytree\\\": [0.3, 0.4, 0.5],\\n}\\nxgb_clf = xgb.XGBClassifier()\\nxgb_clf = RandomizedSearchCV(xgb_clf, parameters, verbose=2)\\nxgb_clf.fit(xtrain, ytrain)\\nxgb_clf.best_estimator_\";\n",
       "                var nbb_cells = Jupyter.notebook.get_cells();\n",
       "                for (var i = 0; i < nbb_cells.length; ++i) {\n",
       "                    if (nbb_cells[i].input_prompt_number == nbb_cell_id) {\n",
       "                        if (nbb_cells[i].get_text() == nbb_unformatted_code) {\n",
       "                             nbb_cells[i].set_text(nbb_formatted_code);\n",
       "                        }\n",
       "                        break;\n",
       "                    }\n",
       "                }\n",
       "            }, 500);\n",
       "            "
      ],
      "text/plain": [
       "<IPython.core.display.Javascript object>"
      ]
     },
     "metadata": {},
     "output_type": "display_data"
    }
   ],
   "source": [
    "# parameters = {\n",
    "#     \"max_depth\": [2, 8, 10],\n",
    "#     \"n_estimators\": [10, 100, 700],\n",
    "#     \"learning_rate\": [0.05, 0.15, 0.25],\n",
    "#     \"min_child_weight\": [1, 3, 5],\n",
    "#     \"gamma\": [0.0, 0.2, 0.4],\n",
    "#     \"colsample_bytree\": [0.3, 0.4, 0.5],\n",
    "# }\n",
    "# xgb_clf = xgb.XGBClassifier()\n",
    "# xgb_clf = RandomizedSearchCV(xgb_clf, parameters, verbose=2)\n",
    "# xgb_clf.fit(xtrain, ytrain)\n",
    "# xgb_clf.best_estimator_"
   ]
  },
  {
   "cell_type": "code",
   "execution_count": 24,
   "metadata": {},
   "outputs": [
    {
     "data": {
      "application/javascript": [
       "\n",
       "            setTimeout(function() {\n",
       "                var nbb_cell_id = 24;\n",
       "                var nbb_unformatted_code = \"import xgboost as xgb\\nfrom sklearn import metrics as m\\n\\nxgb_model_12 = xgb.XGBClassifier(objective=\\\"binary:logistic\\\", random_state=randomseed)\\n# objective=\\\"multi:softmax\\\"\\n# objective=\\\"binary:logistic\\\"\\n# xgb_model=xgb_clf.best_estimator_\\n\\n# xgb_model=xgb_clf.best_estimator_\\n# xgb_model_12=xgb.XGBClassifier(base_score=0.5, booster='gbtree', colsample_bylevel=1,\\n#               colsample_bynode=1, colsample_bytree=0.3, gamma=0.2,\\n#               learning_rate=0.05, max_delta_step=0, max_depth=10,\\n#               min_child_weight=5, missing=None, n_estimators=700, n_jobs=1,\\n#               nthread=None, objective='multi:softprob', random_state=0,\\n#               reg_alpha=0, reg_lambda=1, scale_pos_weight=1, seed=None,\\n#               silent=None, subsample=1, verbosity=1)\";\n",
       "                var nbb_formatted_code = \"import xgboost as xgb\\nfrom sklearn import metrics as m\\n\\nxgb_model_12 = xgb.XGBClassifier(objective=\\\"binary:logistic\\\", random_state=randomseed)\\n# objective=\\\"multi:softmax\\\"\\n# objective=\\\"binary:logistic\\\"\\n# xgb_model=xgb_clf.best_estimator_\\n\\n# xgb_model=xgb_clf.best_estimator_\\n# xgb_model_12=xgb.XGBClassifier(base_score=0.5, booster='gbtree', colsample_bylevel=1,\\n#               colsample_bynode=1, colsample_bytree=0.3, gamma=0.2,\\n#               learning_rate=0.05, max_delta_step=0, max_depth=10,\\n#               min_child_weight=5, missing=None, n_estimators=700, n_jobs=1,\\n#               nthread=None, objective='multi:softprob', random_state=0,\\n#               reg_alpha=0, reg_lambda=1, scale_pos_weight=1, seed=None,\\n#               silent=None, subsample=1, verbosity=1)\";\n",
       "                var nbb_cells = Jupyter.notebook.get_cells();\n",
       "                for (var i = 0; i < nbb_cells.length; ++i) {\n",
       "                    if (nbb_cells[i].input_prompt_number == nbb_cell_id) {\n",
       "                        if (nbb_cells[i].get_text() == nbb_unformatted_code) {\n",
       "                             nbb_cells[i].set_text(nbb_formatted_code);\n",
       "                        }\n",
       "                        break;\n",
       "                    }\n",
       "                }\n",
       "            }, 500);\n",
       "            "
      ],
      "text/plain": [
       "<IPython.core.display.Javascript object>"
      ]
     },
     "metadata": {},
     "output_type": "display_data"
    }
   ],
   "source": [
    "import xgboost as xgb\n",
    "from sklearn import metrics as m\n",
    "\n",
    "xgb_model_12 = xgb.XGBClassifier(objective=\"binary:logistic\", random_state=randomseed)\n",
    "# objective=\"multi:softmax\"\n",
    "# objective=\"binary:logistic\"\n",
    "# xgb_model=xgb_clf.best_estimator_\n",
    "\n",
    "# xgb_model=xgb_clf.best_estimator_\n",
    "# xgb_model_12=xgb.XGBClassifier(base_score=0.5, booster='gbtree', colsample_bylevel=1,\n",
    "#               colsample_bynode=1, colsample_bytree=0.3, gamma=0.2,\n",
    "#               learning_rate=0.05, max_delta_step=0, max_depth=10,\n",
    "#               min_child_weight=5, missing=None, n_estimators=700, n_jobs=1,\n",
    "#               nthread=None, objective='multi:softprob', random_state=0,\n",
    "#               reg_alpha=0, reg_lambda=1, scale_pos_weight=1, seed=None,\n",
    "#               silent=None, subsample=1, verbosity=1)\n"
   ]
  },
  {
   "cell_type": "code",
   "execution_count": 25,
   "metadata": {},
   "outputs": [
    {
     "data": {
      "text/plain": [
       "XGBClassifier(base_score=0.5, booster='gbtree', colsample_bylevel=1,\n",
       "              colsample_bynode=1, colsample_bytree=1, gamma=0, gpu_id=-1,\n",
       "              importance_type='gain', interaction_constraints='',\n",
       "              learning_rate=0.300000012, max_delta_step=0, max_depth=6,\n",
       "              min_child_weight=1, missing=nan, monotone_constraints='()',\n",
       "              n_estimators=100, n_jobs=0, num_parallel_tree=1,\n",
       "              objective='multi:softprob', random_state=42, reg_alpha=0,\n",
       "              reg_lambda=1, scale_pos_weight=None, subsample=1,\n",
       "              tree_method='exact', validate_parameters=1, verbosity=None)"
      ]
     },
     "execution_count": 25,
     "metadata": {},
     "output_type": "execute_result"
    },
    {
     "data": {
      "application/javascript": [
       "\n",
       "            setTimeout(function() {\n",
       "                var nbb_cell_id = 25;\n",
       "                var nbb_unformatted_code = \"xgb_model_12.fit(xtrain, ytrain)\";\n",
       "                var nbb_formatted_code = \"xgb_model_12.fit(xtrain, ytrain)\";\n",
       "                var nbb_cells = Jupyter.notebook.get_cells();\n",
       "                for (var i = 0; i < nbb_cells.length; ++i) {\n",
       "                    if (nbb_cells[i].input_prompt_number == nbb_cell_id) {\n",
       "                        if (nbb_cells[i].get_text() == nbb_unformatted_code) {\n",
       "                             nbb_cells[i].set_text(nbb_formatted_code);\n",
       "                        }\n",
       "                        break;\n",
       "                    }\n",
       "                }\n",
       "            }, 500);\n",
       "            "
      ],
      "text/plain": [
       "<IPython.core.display.Javascript object>"
      ]
     },
     "metadata": {},
     "output_type": "display_data"
    }
   ],
   "source": [
    "xgb_model_12.fit(xtrain, ytrain)"
   ]
  },
  {
   "cell_type": "code",
   "execution_count": 26,
   "metadata": {},
   "outputs": [
    {
     "name": "stdout",
     "output_type": "stream",
     "text": [
      "Accuracy =  0.7916666666666666\n"
     ]
    },
    {
     "data": {
      "application/javascript": [
       "\n",
       "            setTimeout(function() {\n",
       "                var nbb_cell_id = 26;\n",
       "                var nbb_unformatted_code = \"ypred = xgb_model_12.predict(xtest)\\nprint(\\\"Accuracy = \\\", m.accuracy_score(ytest, ypred))\";\n",
       "                var nbb_formatted_code = \"ypred = xgb_model_12.predict(xtest)\\nprint(\\\"Accuracy = \\\", m.accuracy_score(ytest, ypred))\";\n",
       "                var nbb_cells = Jupyter.notebook.get_cells();\n",
       "                for (var i = 0; i < nbb_cells.length; ++i) {\n",
       "                    if (nbb_cells[i].input_prompt_number == nbb_cell_id) {\n",
       "                        if (nbb_cells[i].get_text() == nbb_unformatted_code) {\n",
       "                             nbb_cells[i].set_text(nbb_formatted_code);\n",
       "                        }\n",
       "                        break;\n",
       "                    }\n",
       "                }\n",
       "            }, 500);\n",
       "            "
      ],
      "text/plain": [
       "<IPython.core.display.Javascript object>"
      ]
     },
     "metadata": {},
     "output_type": "display_data"
    }
   ],
   "source": [
    "ypred = xgb_model_12.predict(xtest)\n",
    "print(\"Accuracy = \", m.accuracy_score(ytest, ypred))"
   ]
  },
  {
   "cell_type": "code",
   "execution_count": 27,
   "metadata": {},
   "outputs": [
    {
     "data": {
      "text/html": [
       "<div>\n",
       "<style scoped>\n",
       "    .dataframe tbody tr th:only-of-type {\n",
       "        vertical-align: middle;\n",
       "    }\n",
       "\n",
       "    .dataframe tbody tr th {\n",
       "        vertical-align: top;\n",
       "    }\n",
       "\n",
       "    .dataframe thead th {\n",
       "        text-align: right;\n",
       "    }\n",
       "</style>\n",
       "<table border=\"1\" class=\"dataframe\">\n",
       "  <thead>\n",
       "    <tr style=\"text-align: right;\">\n",
       "      <th></th>\n",
       "      <th>Normal</th>\n",
       "      <th>Prediabetes</th>\n",
       "      <th>diabetes</th>\n",
       "    </tr>\n",
       "  </thead>\n",
       "  <tbody>\n",
       "    <tr>\n",
       "      <th>Normal</th>\n",
       "      <td>152</td>\n",
       "      <td>48</td>\n",
       "      <td>0</td>\n",
       "    </tr>\n",
       "    <tr>\n",
       "      <th>Prediabetes</th>\n",
       "      <td>56</td>\n",
       "      <td>143</td>\n",
       "      <td>1</td>\n",
       "    </tr>\n",
       "    <tr>\n",
       "      <th>diabetes</th>\n",
       "      <td>0</td>\n",
       "      <td>20</td>\n",
       "      <td>180</td>\n",
       "    </tr>\n",
       "  </tbody>\n",
       "</table>\n",
       "</div>"
      ],
      "text/plain": [
       "             Normal  Prediabetes  diabetes\n",
       "Normal          152           48         0\n",
       "Prediabetes      56          143         1\n",
       "diabetes          0           20       180"
      ]
     },
     "execution_count": 27,
     "metadata": {},
     "output_type": "execute_result"
    },
    {
     "data": {
      "application/javascript": [
       "\n",
       "            setTimeout(function() {\n",
       "                var nbb_cell_id = 27;\n",
       "                var nbb_unformatted_code = \"confmatrx = pd.DataFrame(\\n    m.confusion_matrix(ytest, ypred),\\n    columns=[\\\"Normal\\\", \\\"Prediabetes\\\", \\\"diabetes\\\"],\\n    index=[\\\"Normal\\\", \\\"Prediabetes\\\", \\\"diabetes\\\"],\\n)\\nconfmatrx.head()\";\n",
       "                var nbb_formatted_code = \"confmatrx = pd.DataFrame(\\n    m.confusion_matrix(ytest, ypred),\\n    columns=[\\\"Normal\\\", \\\"Prediabetes\\\", \\\"diabetes\\\"],\\n    index=[\\\"Normal\\\", \\\"Prediabetes\\\", \\\"diabetes\\\"],\\n)\\nconfmatrx.head()\";\n",
       "                var nbb_cells = Jupyter.notebook.get_cells();\n",
       "                for (var i = 0; i < nbb_cells.length; ++i) {\n",
       "                    if (nbb_cells[i].input_prompt_number == nbb_cell_id) {\n",
       "                        if (nbb_cells[i].get_text() == nbb_unformatted_code) {\n",
       "                             nbb_cells[i].set_text(nbb_formatted_code);\n",
       "                        }\n",
       "                        break;\n",
       "                    }\n",
       "                }\n",
       "            }, 500);\n",
       "            "
      ],
      "text/plain": [
       "<IPython.core.display.Javascript object>"
      ]
     },
     "metadata": {},
     "output_type": "display_data"
    }
   ],
   "source": [
    "confmatrx = pd.DataFrame(\n",
    "    m.confusion_matrix(ytest, ypred),\n",
    "    columns=[\"Normal\", \"Prediabetes\", \"diabetes\"],\n",
    "    index=[\"Normal\", \"Prediabetes\", \"diabetes\"],\n",
    ")\n",
    "confmatrx.head()"
   ]
  },
  {
   "cell_type": "code",
   "execution_count": 28,
   "metadata": {},
   "outputs": [
    {
     "name": "stdout",
     "output_type": "stream",
     "text": [
      "              precision    recall  f1-score   support\n",
      "\n",
      "           0       0.73      0.76      0.75       200\n",
      "           1       0.68      0.71      0.70       200\n",
      "           2       0.99      0.90      0.94       200\n",
      "\n",
      "    accuracy                           0.79       600\n",
      "   macro avg       0.80      0.79      0.80       600\n",
      "weighted avg       0.80      0.79      0.80       600\n",
      "\n"
     ]
    },
    {
     "data": {
      "application/javascript": [
       "\n",
       "            setTimeout(function() {\n",
       "                var nbb_cell_id = 28;\n",
       "                var nbb_unformatted_code = \"print(m.classification_report(ytest, ypred))\";\n",
       "                var nbb_formatted_code = \"print(m.classification_report(ytest, ypred))\";\n",
       "                var nbb_cells = Jupyter.notebook.get_cells();\n",
       "                for (var i = 0; i < nbb_cells.length; ++i) {\n",
       "                    if (nbb_cells[i].input_prompt_number == nbb_cell_id) {\n",
       "                        if (nbb_cells[i].get_text() == nbb_unformatted_code) {\n",
       "                             nbb_cells[i].set_text(nbb_formatted_code);\n",
       "                        }\n",
       "                        break;\n",
       "                    }\n",
       "                }\n",
       "            }, 500);\n",
       "            "
      ],
      "text/plain": [
       "<IPython.core.display.Javascript object>"
      ]
     },
     "metadata": {},
     "output_type": "display_data"
    }
   ],
   "source": [
    "print(m.classification_report(ytest, ypred))"
   ]
  },
  {
   "cell_type": "code",
   "execution_count": 29,
   "metadata": {},
   "outputs": [
    {
     "name": "stdout",
     "output_type": "stream",
     "text": [
      "Accuracy: 0.76 (+/- 0.05) [xgb_model] \n",
      " [[0.64494163 0.74046693 0.73871595 0.79256665 0.79587468 0.79723682\n",
      " 0.77466433 0.76902121 0.80832847 0.78244795]]\n"
     ]
    },
    {
     "data": {
      "application/javascript": [
       "\n",
       "            setTimeout(function() {\n",
       "                var nbb_cell_id = 29;\n",
       "                var nbb_unformatted_code = \"scores = model_selection.cross_val_score(\\n    xgb_model_12, xtrain, ytrain, cv=10, scoring=\\\"accuracy\\\"\\n)\\nprint(\\n    \\\"Accuracy: %0.2f (+/- %0.2f) [%s] \\\\n [%s]\\\"\\n    % (scores.mean(), scores.std(), \\\"xgb_model\\\", scores)\\n)\";\n",
       "                var nbb_formatted_code = \"scores = model_selection.cross_val_score(\\n    xgb_model_12, xtrain, ytrain, cv=10, scoring=\\\"accuracy\\\"\\n)\\nprint(\\n    \\\"Accuracy: %0.2f (+/- %0.2f) [%s] \\\\n [%s]\\\"\\n    % (scores.mean(), scores.std(), \\\"xgb_model\\\", scores)\\n)\";\n",
       "                var nbb_cells = Jupyter.notebook.get_cells();\n",
       "                for (var i = 0; i < nbb_cells.length; ++i) {\n",
       "                    if (nbb_cells[i].input_prompt_number == nbb_cell_id) {\n",
       "                        if (nbb_cells[i].get_text() == nbb_unformatted_code) {\n",
       "                             nbb_cells[i].set_text(nbb_formatted_code);\n",
       "                        }\n",
       "                        break;\n",
       "                    }\n",
       "                }\n",
       "            }, 500);\n",
       "            "
      ],
      "text/plain": [
       "<IPython.core.display.Javascript object>"
      ]
     },
     "metadata": {},
     "output_type": "display_data"
    }
   ],
   "source": [
    "scores = model_selection.cross_val_score(\n",
    "    xgb_model_12, xtrain, ytrain, cv=10, scoring=\"accuracy\"\n",
    ")\n",
    "print(\n",
    "    \"Accuracy: %0.2f (+/- %0.2f) [%s] \\n [%s]\"\n",
    "    % (scores.mean(), scores.std(), \"xgb_model\", scores)\n",
    ")"
   ]
  },
  {
   "cell_type": "markdown",
   "metadata": {},
   "source": [
    "# c. SVM"
   ]
  },
  {
   "cell_type": "code",
   "execution_count": 30,
   "metadata": {
    "scrolled": true
   },
   "outputs": [
    {
     "data": {
      "application/javascript": [
       "\n",
       "            setTimeout(function() {\n",
       "                var nbb_cell_id = 30;\n",
       "                var nbb_unformatted_code = \"# from thundersvm import SVC as svmgpu\\n\\n# parameters = {\\n#     \\\"C\\\": [0.1, 1, 10, 100, 1000],\\n#     \\\"gamma\\\": [1, 0.1, 0.01, 0.001, 0.0001],\\n#     \\\"kernel\\\": [\\\"linear\\\", \\\"rbf\\\"],\\n# }\\n\\n# SVC_clf = svmgpu()\\n# SVC_clf2 = RandomizedSearchCV(SVC_clf, parameters, verbose=2)\\n# SVC_clf2.fit(xtrain, ytrain)\\n\\n\\n# # sorted(SVC_clf2.cv_results_.keys())\";\n",
       "                var nbb_formatted_code = \"# from thundersvm import SVC as svmgpu\\n\\n# parameters = {\\n#     \\\"C\\\": [0.1, 1, 10, 100, 1000],\\n#     \\\"gamma\\\": [1, 0.1, 0.01, 0.001, 0.0001],\\n#     \\\"kernel\\\": [\\\"linear\\\", \\\"rbf\\\"],\\n# }\\n\\n# SVC_clf = svmgpu()\\n# SVC_clf2 = RandomizedSearchCV(SVC_clf, parameters, verbose=2)\\n# SVC_clf2.fit(xtrain, ytrain)\\n\\n\\n# # sorted(SVC_clf2.cv_results_.keys())\";\n",
       "                var nbb_cells = Jupyter.notebook.get_cells();\n",
       "                for (var i = 0; i < nbb_cells.length; ++i) {\n",
       "                    if (nbb_cells[i].input_prompt_number == nbb_cell_id) {\n",
       "                        if (nbb_cells[i].get_text() == nbb_unformatted_code) {\n",
       "                             nbb_cells[i].set_text(nbb_formatted_code);\n",
       "                        }\n",
       "                        break;\n",
       "                    }\n",
       "                }\n",
       "            }, 500);\n",
       "            "
      ],
      "text/plain": [
       "<IPython.core.display.Javascript object>"
      ]
     },
     "metadata": {},
     "output_type": "display_data"
    }
   ],
   "source": [
    "# from thundersvm import SVC as svmgpu\n",
    "\n",
    "# parameters = {\n",
    "#     \"C\": [0.1, 1, 10, 100, 1000],\n",
    "#     \"gamma\": [1, 0.1, 0.01, 0.001, 0.0001],\n",
    "#     \"kernel\": [\"linear\", \"rbf\"],\n",
    "# }\n",
    "\n",
    "# SVC_clf = svmgpu()\n",
    "# SVC_clf2 = RandomizedSearchCV(SVC_clf, parameters, verbose=2)\n",
    "# SVC_clf2.fit(xtrain, ytrain)\n",
    "\n",
    "\n",
    "# # sorted(SVC_clf2.cv_results_.keys())"
   ]
  },
  {
   "cell_type": "code",
   "execution_count": 27,
   "metadata": {
    "scrolled": true
   },
   "outputs": [
    {
     "data": {
      "text/plain": [
       "SVC(C=100, cache_size=None, class_weight={}, coef0=0.0,\n",
       "    decision_function_shape='ovo', degree=3, gamma=0.1, gpu_id=0,\n",
       "    kernel='linear', max_iter=-1, max_mem_size=-1, n_jobs=-1, probability=False,\n",
       "    random_state=None, shrinking=False, tol=0.001, verbose=False)"
      ]
     },
     "execution_count": 27,
     "metadata": {},
     "output_type": "execute_result"
    },
    {
     "data": {
      "application/javascript": [
       "\n",
       "            setTimeout(function() {\n",
       "                var nbb_cell_id = 27;\n",
       "                var nbb_unformatted_code = \"SVC_clf2.best_estimator_\";\n",
       "                var nbb_formatted_code = \"SVC_clf2.best_estimator_\";\n",
       "                var nbb_cells = Jupyter.notebook.get_cells();\n",
       "                for (var i = 0; i < nbb_cells.length; ++i) {\n",
       "                    if (nbb_cells[i].input_prompt_number == nbb_cell_id) {\n",
       "                        if (nbb_cells[i].get_text() == nbb_unformatted_code) {\n",
       "                             nbb_cells[i].set_text(nbb_formatted_code);\n",
       "                        }\n",
       "                        break;\n",
       "                    }\n",
       "                }\n",
       "            }, 500);\n",
       "            "
      ],
      "text/plain": [
       "<IPython.core.display.Javascript object>"
      ]
     },
     "metadata": {},
     "output_type": "display_data"
    }
   ],
   "source": [
    "# SVC_clf2.best_estimator_"
   ]
  },
  {
   "cell_type": "code",
   "execution_count": 31,
   "metadata": {},
   "outputs": [
    {
     "data": {
      "application/javascript": [
       "\n",
       "            setTimeout(function() {\n",
       "                var nbb_cell_id = 31;\n",
       "                var nbb_unformatted_code = \"# scv_12=SVC_clf2.best_estimator_\\nscv_12 = svmgpu(\\n    C=100,\\n    cache_size=None,\\n    class_weight={},\\n    coef0=0.0,\\n    decision_function_shape=\\\"ovo\\\",\\n    degree=3,\\n    gamma=0.1,\\n    gpu_id=0,\\n    kernel=\\\"linear\\\",\\n    max_iter=-1,\\n    max_mem_size=-1,\\n    n_jobs=-1,\\n    probability=False,\\n    random_state=None,\\n    shrinking=False,\\n    tol=0.001,\\n    verbose=False,\\n)\";\n",
       "                var nbb_formatted_code = \"# scv_12=SVC_clf2.best_estimator_\\nscv_12 = svmgpu(\\n    C=100,\\n    cache_size=None,\\n    class_weight={},\\n    coef0=0.0,\\n    decision_function_shape=\\\"ovo\\\",\\n    degree=3,\\n    gamma=0.1,\\n    gpu_id=0,\\n    kernel=\\\"linear\\\",\\n    max_iter=-1,\\n    max_mem_size=-1,\\n    n_jobs=-1,\\n    probability=False,\\n    random_state=None,\\n    shrinking=False,\\n    tol=0.001,\\n    verbose=False,\\n)\";\n",
       "                var nbb_cells = Jupyter.notebook.get_cells();\n",
       "                for (var i = 0; i < nbb_cells.length; ++i) {\n",
       "                    if (nbb_cells[i].input_prompt_number == nbb_cell_id) {\n",
       "                        if (nbb_cells[i].get_text() == nbb_unformatted_code) {\n",
       "                             nbb_cells[i].set_text(nbb_formatted_code);\n",
       "                        }\n",
       "                        break;\n",
       "                    }\n",
       "                }\n",
       "            }, 500);\n",
       "            "
      ],
      "text/plain": [
       "<IPython.core.display.Javascript object>"
      ]
     },
     "metadata": {},
     "output_type": "display_data"
    }
   ],
   "source": [
    "# scv_12=SVC_clf2.best_estimator_\n",
    "scv_12 = svmgpu(\n",
    "    C=100,\n",
    "    cache_size=None,\n",
    "    class_weight={},\n",
    "    coef0=0.0,\n",
    "    decision_function_shape=\"ovo\",\n",
    "    degree=3,\n",
    "    gamma=0.1,\n",
    "    gpu_id=0,\n",
    "    kernel=\"linear\",\n",
    "    max_iter=-1,\n",
    "    max_mem_size=-1,\n",
    "    n_jobs=-1,\n",
    "    probability=False,\n",
    "    random_state=None,\n",
    "    shrinking=False,\n",
    "    tol=0.001,\n",
    "    verbose=False,\n",
    ")"
   ]
  },
  {
   "cell_type": "code",
   "execution_count": 36,
   "metadata": {},
   "outputs": [
    {
     "data": {
      "application/javascript": [
       "\n",
       "            setTimeout(function() {\n",
       "                var nbb_cell_id = 36;\n",
       "                var nbb_unformatted_code = \"scv_12 = SVC(\\n    C=70,\\n    cache_size=200,\\n    class_weight=None,\\n    coef0=0.0,\\n    decision_function_shape=\\\"ovr\\\",\\n    degree=3,\\n#     gamma=\\\"auto_deprecated\\\",\\n    kernel=\\\"linear\\\",\\n    max_iter=-1,\\n    probability=True,\\n    random_state=42,\\n    shrinking=True,\\n    tol=0.001,\\n    verbose=False,\\n)\";\n",
       "                var nbb_formatted_code = \"scv_12 = SVC(\\n    C=70,\\n    cache_size=200,\\n    class_weight=None,\\n    coef0=0.0,\\n    decision_function_shape=\\\"ovr\\\",\\n    degree=3,\\n    #     gamma=\\\"auto_deprecated\\\",\\n    kernel=\\\"linear\\\",\\n    max_iter=-1,\\n    probability=True,\\n    random_state=42,\\n    shrinking=True,\\n    tol=0.001,\\n    verbose=False,\\n)\";\n",
       "                var nbb_cells = Jupyter.notebook.get_cells();\n",
       "                for (var i = 0; i < nbb_cells.length; ++i) {\n",
       "                    if (nbb_cells[i].input_prompt_number == nbb_cell_id) {\n",
       "                        if (nbb_cells[i].get_text() == nbb_unformatted_code) {\n",
       "                             nbb_cells[i].set_text(nbb_formatted_code);\n",
       "                        }\n",
       "                        break;\n",
       "                    }\n",
       "                }\n",
       "            }, 500);\n",
       "            "
      ],
      "text/plain": [
       "<IPython.core.display.Javascript object>"
      ]
     },
     "metadata": {},
     "output_type": "display_data"
    }
   ],
   "source": [
    "scv_12 = SVC(\n",
    "    C=70,\n",
    "    cache_size=200,\n",
    "    class_weight=None,\n",
    "    coef0=0.0,\n",
    "    decision_function_shape=\"ovr\",\n",
    "    degree=3,\n",
    "    #     gamma=\"auto_deprecated\",\n",
    "    kernel=\"linear\",\n",
    "    max_iter=-1,\n",
    "    probability=True,\n",
    "    random_state=42,\n",
    "    shrinking=True,\n",
    "    tol=0.001,\n",
    "    verbose=False,\n",
    ")"
   ]
  },
  {
   "cell_type": "code",
   "execution_count": null,
   "metadata": {},
   "outputs": [],
   "source": [
    "scv_12.fit(xtrain, ytrain)"
   ]
  },
  {
   "cell_type": "code",
   "execution_count": null,
   "metadata": {},
   "outputs": [],
   "source": [
    "ypred = scv_12.predict(xtest)\n",
    "print(\"Accuracy = \", m.accuracy_score(ytest, ypred))"
   ]
  },
  {
   "cell_type": "code",
   "execution_count": null,
   "metadata": {},
   "outputs": [],
   "source": [
    "confmatrx = pd.DataFrame(\n",
    "    m.confusion_matrix(ytest, ypred),\n",
    "    columns=[\"Normal\", \"Prediabetes\", \"diabetes\"],\n",
    "    index=[\"Normal\", \"Prediabetes\", \"diabetes\"],\n",
    ")\n",
    "confmatrx.head()"
   ]
  },
  {
   "cell_type": "code",
   "execution_count": null,
   "metadata": {},
   "outputs": [],
   "source": [
    "print(m.classification_report(ytest, ypred))"
   ]
  },
  {
   "cell_type": "code",
   "execution_count": null,
   "metadata": {},
   "outputs": [],
   "source": [
    "scores = model_selection.cross_val_score(\n",
    "    scv_12, xtrain, ytrain, cv=10, scoring=\"accuracy\"\n",
    ")\n",
    "print(\n",
    "    \"Accuracy: %0.2f (+/- %0.2f) [%s] \\n [%s]\"\n",
    "    % (scores.mean(), scores.std(), \"SVC_clf\", scores)\n",
    ")"
   ]
  },
  {
   "cell_type": "code",
   "execution_count": null,
   "metadata": {},
   "outputs": [],
   "source": []
  }
 ],
 "metadata": {
  "kernelspec": {
   "display_name": "Python 3",
   "language": "python",
   "name": "python3"
  },
  "language_info": {
   "codemirror_mode": {
    "name": "ipython",
    "version": 3
   },
   "file_extension": ".py",
   "mimetype": "text/x-python",
   "name": "python",
   "nbconvert_exporter": "python",
   "pygments_lexer": "ipython3",
   "version": "3.8.3"
  }
 },
 "nbformat": 4,
 "nbformat_minor": 2
}
