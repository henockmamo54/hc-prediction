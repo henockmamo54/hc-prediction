{
 "cells": [
  {
   "cell_type": "code",
   "execution_count": 45,
   "metadata": {},
   "outputs": [],
   "source": [
    "import numpy as np\n",
    "import pandas as pd \n",
    "import warnings\n",
    "warnings.filterwarnings('ignore')\n",
    "from scipy.stats import chi2_contingency\n",
    "from scipy import stats\n",
    "from matplotlib import pyplot as plt"
   ]
  },
  {
   "cell_type": "markdown",
   "metadata": {},
   "source": [
    "1 Read the dataset \n",
    "========"
   ]
  },
  {
   "cell_type": "code",
   "execution_count": 46,
   "metadata": {},
   "outputs": [
    {
     "name": "stdout",
     "output_type": "stream",
     "text": [
      "(535169, 404)\n"
     ]
    }
   ],
   "source": [
    "data= pd.read_csv('../../Dataset/sep19SexAndAgeAddedFINAL DATASET_ver2.txt',sep=',')\n",
    "\n",
    "data['FIELD_6_7']=np.min(data[['FIELD_6','FIELD_7']],axis=1) #combine FIELD_6 and FIELD_7 both represent the same thing (Women's marital status)\n",
    "data=data.drop(columns=['FIELD_6','FIELD_7','B_DAY'])\n",
    "print(data.shape)"
   ]
  },
  {
   "cell_type": "code",
   "execution_count": 47,
   "metadata": {},
   "outputs": [],
   "source": [
    "# # add Class to the dataset \n",
    "# conditions = [\n",
    "#     (data.L100800 < 100)  ,\n",
    "#     (data.L100800 >= 100) & (data.L100800 < 126),\n",
    "#     (data.L100800 >= 126)]\n",
    "# choices = [0,1,2]\n",
    "# data['CLASS'] = np.select(conditions, choices, default=0) "
   ]
  },
  {
   "cell_type": "code",
   "execution_count": 48,
   "metadata": {},
   "outputs": [],
   "source": [
    "# # add Class to the dataset \n",
    "# conditions = [\n",
    "#     ((data.L100800 < 100 ) or ( data.L104600 < 5.7))  ,\n",
    "#     ((data.L100800 >= 100) & (data.L100800 < 126) & (data.L104600 >= 5.7) & (data.L104600 <= 6.5)),\n",
    "#     ((data.L100800 >= 126 or data.L104600 > 6.5))]\n",
    "# choices = [0,1,2]\n",
    "# data['CLASS'] = np.select(conditions, choices, default=0) "
   ]
  },
  {
   "cell_type": "code",
   "execution_count": 49,
   "metadata": {},
   "outputs": [],
   "source": [
    "# # add Class to the dataset \n",
    "# conditions = [\n",
    "#     ((data.L100800 < 100 ) & ( data.L104600 < 5.7))  ,\n",
    "#     (data.L100800 >= 100) & (data.L100800 < 126) & (data.L104600 >= 5.7)& (data.L104600 <= 6.5),\n",
    "#     (data.L100800 >= 126) & (data.L104600 > 6.5)\n",
    "# ]\n",
    "# choices = [0,1,2]\n",
    "# data['CLASS'] = np.select(conditions, choices, default=0) "
   ]
  },
  {
   "cell_type": "code",
   "execution_count": 50,
   "metadata": {},
   "outputs": [],
   "source": [
    "# add Class to the dataset \n",
    "conditions = [\n",
    "    ((data.L100800 < 100 ) & ( data.L104600 < 5.7))  ,\n",
    "    (data.L100800 >= 126) & (data.L104600 > 6.5)\n",
    "]\n",
    "choices = [0,2]\n",
    "data['CLASS'] = np.select(conditions, choices, default=1) "
   ]
  },
  {
   "cell_type": "code",
   "execution_count": 51,
   "metadata": {},
   "outputs": [
    {
     "name": "stdout",
     "output_type": "stream",
     "text": [
      "(466680, 405)\n"
     ]
    }
   ],
   "source": [
    "# filter the data set \n",
    "data=data[data.FIELD_16!=1] # exclude people who are diagnosed for (diabetes) \n",
    "data=data[data.FIELD_23!=1] # exclude people who are on medication for diabetes\n",
    "\n",
    "data=data[data.FIELD_15!=1] # exclude people who are diagnosed for (high blood pressure)\n",
    "data=data[data.FIELD_22!=1] # exclude people who are on medication for high blood pressure\n",
    "\n",
    "data=data[data.FIELD_17!=1] # exclude people who are diagnosed for hyperlipidemia\n",
    "data=data[data.FIELD_24!=1] # exclude people who are on medication for hyperlipidemia\n",
    "print(data.shape)"
   ]
  },
  {
   "cell_type": "code",
   "execution_count": 52,
   "metadata": {},
   "outputs": [],
   "source": [
    "# rename columns\n",
    "data.rename(columns={'L104600': 'HBA1C', \n",
    "                     'L103000': 'Triglycerides',\n",
    "                     'L100800':'fasting glucose', \n",
    "                     'S000300':'BMI', \n",
    "                     'S000501':'SBP', \n",
    "                     'S000502':'DBP', \n",
    "                     'L101700':'r-GTP gamma', \n",
    "                     'L103300':'Cardiac risk factor', \n",
    "                     'L190400':'Hemoglobin', \n",
    "                     'L190500':'HCT', \n",
    "                     'L100700':'Uric Acid', \n",
    "                     'L101300':'SGPT', \n",
    "                     'L190300':'RBC', \n",
    "                     'L102900':'total cholesterol', \n",
    "                     'L103100':'HDL-Cholesterol'\n",
    "                    }, inplace=True)"
   ]
  },
  {
   "cell_type": "code",
   "execution_count": 53,
   "metadata": {},
   "outputs": [],
   "source": [
    "# rename common field names\n",
    "mydata=data.rename(columns={\n",
    "                     'FIELD_33': 'Smoking', \n",
    "                     'FIELD_38': 'Drinking', \n",
    "                     'FIELD_40': 'physical_activity', \n",
    "                     'FIELD_31': 'Family_history', \n",
    "                     'FIELD_41': '_6_2_of_physical_activity_moderate', \n",
    "                     'FIELD_27': '_2_family_history_stroke', \n",
    "                     'FIELD_21': '_1_medication_heart_disease', \n",
    "                     'FIELD_14': 'Whether_one_diagnosis_disease', \n",
    "                     'FIELD_32': '_3B_hepatitis', \n",
    "                     'FIELD_42': '_6_3_of_physical_activity_walking', \n",
    "                     'FIELD_4' : 'blood_type', \n",
    "                     'FIELD_29': '_2_family_history_hypertension', \n",
    "                     'FIELD_3' : 'Blood_factor_RH_factor', \n",
    "                     'FIELD_19': '_1_drug_therapy_stroke'\n",
    "                    }, inplace=True)\n",
    "\n",
    "\n"
   ]
  },
  {
   "cell_type": "markdown",
   "metadata": {},
   "source": [
    "3.4 Final Selected Features\n",
    "======"
   ]
  },
  {
   "cell_type": "code",
   "execution_count": 54,
   "metadata": {},
   "outputs": [],
   "source": [
    "# based on the out put of section of 3.2 and 3.3 the following features are selected\n",
    "\n",
    "finalFeatures=['fasting glucose','HBA1C', 'Triglycerides', 'BMI',  'r-GTP gamma', 'SEX', 'AGE', 'Uric Acid', \n",
    "               'Smoking', 'Drinking', 'physical_activity', 'Family_history','CLASS']"
   ]
  },
  {
   "cell_type": "markdown",
   "metadata": {},
   "source": [
    "Classifier Model Test Based on the features \n",
    "========"
   ]
  },
  {
   "cell_type": "code",
   "execution_count": 55,
   "metadata": {},
   "outputs": [
    {
     "name": "stdout",
     "output_type": "stream",
     "text": [
      "(142724, 13)\n"
     ]
    },
    {
     "data": {
      "text/html": [
       "<div>\n",
       "<style scoped>\n",
       "    .dataframe tbody tr th:only-of-type {\n",
       "        vertical-align: middle;\n",
       "    }\n",
       "\n",
       "    .dataframe tbody tr th {\n",
       "        vertical-align: top;\n",
       "    }\n",
       "\n",
       "    .dataframe thead th {\n",
       "        text-align: right;\n",
       "    }\n",
       "</style>\n",
       "<table border=\"1\" class=\"dataframe\">\n",
       "  <thead>\n",
       "    <tr style=\"text-align: right;\">\n",
       "      <th></th>\n",
       "      <th>fasting glucose</th>\n",
       "      <th>HBA1C</th>\n",
       "      <th>Triglycerides</th>\n",
       "      <th>BMI</th>\n",
       "      <th>r-GTP gamma</th>\n",
       "      <th>SEX</th>\n",
       "      <th>AGE</th>\n",
       "      <th>Uric Acid</th>\n",
       "      <th>Smoking</th>\n",
       "      <th>Drinking</th>\n",
       "      <th>physical_activity</th>\n",
       "      <th>Family_history</th>\n",
       "      <th>CLASS</th>\n",
       "    </tr>\n",
       "  </thead>\n",
       "  <tbody>\n",
       "    <tr>\n",
       "      <th>4</th>\n",
       "      <td>118.0</td>\n",
       "      <td>5.18</td>\n",
       "      <td>92.0</td>\n",
       "      <td>23.7</td>\n",
       "      <td>24.0</td>\n",
       "      <td>0.0</td>\n",
       "      <td>50.0</td>\n",
       "      <td>2.8</td>\n",
       "      <td>2.0</td>\n",
       "      <td>3.0</td>\n",
       "      <td>2.0</td>\n",
       "      <td>0.0</td>\n",
       "      <td>1</td>\n",
       "    </tr>\n",
       "    <tr>\n",
       "      <th>7</th>\n",
       "      <td>96.0</td>\n",
       "      <td>5.30</td>\n",
       "      <td>92.0</td>\n",
       "      <td>25.1</td>\n",
       "      <td>40.0</td>\n",
       "      <td>0.0</td>\n",
       "      <td>46.0</td>\n",
       "      <td>7.9</td>\n",
       "      <td>2.0</td>\n",
       "      <td>6.0</td>\n",
       "      <td>0.0</td>\n",
       "      <td>0.0</td>\n",
       "      <td>0</td>\n",
       "    </tr>\n",
       "    <tr>\n",
       "      <th>9</th>\n",
       "      <td>88.0</td>\n",
       "      <td>5.40</td>\n",
       "      <td>60.0</td>\n",
       "      <td>18.0</td>\n",
       "      <td>24.0</td>\n",
       "      <td>0.0</td>\n",
       "      <td>46.0</td>\n",
       "      <td>5.6</td>\n",
       "      <td>1.0</td>\n",
       "      <td>1.0</td>\n",
       "      <td>1.0</td>\n",
       "      <td>0.0</td>\n",
       "      <td>0</td>\n",
       "    </tr>\n",
       "    <tr>\n",
       "      <th>10</th>\n",
       "      <td>91.0</td>\n",
       "      <td>5.50</td>\n",
       "      <td>90.0</td>\n",
       "      <td>18.5</td>\n",
       "      <td>29.0</td>\n",
       "      <td>0.0</td>\n",
       "      <td>47.0</td>\n",
       "      <td>5.6</td>\n",
       "      <td>1.0</td>\n",
       "      <td>1.0</td>\n",
       "      <td>1.0</td>\n",
       "      <td>0.0</td>\n",
       "      <td>0</td>\n",
       "    </tr>\n",
       "    <tr>\n",
       "      <th>11</th>\n",
       "      <td>90.0</td>\n",
       "      <td>5.53</td>\n",
       "      <td>58.0</td>\n",
       "      <td>19.2</td>\n",
       "      <td>37.0</td>\n",
       "      <td>0.0</td>\n",
       "      <td>48.0</td>\n",
       "      <td>5.6</td>\n",
       "      <td>1.0</td>\n",
       "      <td>1.0</td>\n",
       "      <td>1.0</td>\n",
       "      <td>0.0</td>\n",
       "      <td>0</td>\n",
       "    </tr>\n",
       "  </tbody>\n",
       "</table>\n",
       "</div>"
      ],
      "text/plain": [
       "    fasting glucose  HBA1C  Triglycerides   BMI  r-GTP gamma  SEX   AGE  \\\n",
       "4             118.0   5.18           92.0  23.7         24.0  0.0  50.0   \n",
       "7              96.0   5.30           92.0  25.1         40.0  0.0  46.0   \n",
       "9              88.0   5.40           60.0  18.0         24.0  0.0  46.0   \n",
       "10             91.0   5.50           90.0  18.5         29.0  0.0  47.0   \n",
       "11             90.0   5.53           58.0  19.2         37.0  0.0  48.0   \n",
       "\n",
       "    Uric Acid  Smoking  Drinking  physical_activity  Family_history  CLASS  \n",
       "4         2.8      2.0       3.0                2.0             0.0      1  \n",
       "7         7.9      2.0       6.0                0.0             0.0      0  \n",
       "9         5.6      1.0       1.0                1.0             0.0      0  \n",
       "10        5.6      1.0       1.0                1.0             0.0      0  \n",
       "11        5.6      1.0       1.0                1.0             0.0      0  "
      ]
     },
     "execution_count": 55,
     "metadata": {},
     "output_type": "execute_result"
    }
   ],
   "source": [
    "randomseed=7\n",
    "mydata=data[finalFeatures].copy().dropna()\n",
    "print(mydata.shape)\n",
    "mydata.head()"
   ]
  },
  {
   "cell_type": "code",
   "execution_count": 56,
   "metadata": {},
   "outputs": [
    {
     "name": "stdout",
     "output_type": "stream",
     "text": [
      "1510 49032 92182\n"
     ]
    }
   ],
   "source": [
    "diabetic = mydata[mydata.CLASS==2]\n",
    "prediabetic = mydata[mydata.CLASS==1]\n",
    "normal = mydata[mydata.CLASS==0]\n",
    "\n",
    "print(diabetic.shape[0],prediabetic.shape[0],normal.shape[0])"
   ]
  },
  {
   "cell_type": "code",
   "execution_count": 57,
   "metadata": {},
   "outputs": [],
   "source": [
    "diabetic_test = diabetic.sample(500,random_state=randomseed)\n",
    "prediabetic_test = prediabetic.sample(500,random_state=randomseed)\n",
    "normal_test = normal.sample(500,random_state=randomseed)\n",
    "\n",
    "diabetic_train = diabetic.drop(diabetic_test.index)\n",
    "prediabetic_train = prediabetic.drop(prediabetic_test.index).sample(diabetic_train.shape[0],random_state=randomseed)\n",
    "normal_train = normal.drop(normal_test.index).sample(diabetic_train.shape[0],random_state=randomseed)\n",
    "\n",
    "test=pd.concat([diabetic_test,prediabetic_test,normal_test])\n",
    "train=pd.concat([diabetic_train,prediabetic_train,normal_train])"
   ]
  },
  {
   "cell_type": "code",
   "execution_count": null,
   "metadata": {},
   "outputs": [],
   "source": []
  },
  {
   "cell_type": "code",
   "execution_count": 58,
   "metadata": {},
   "outputs": [
    {
     "name": "stdout",
     "output_type": "stream",
     "text": [
      "Resampled dataset samples per class Counter({2: 1010, 1: 1010, 0: 1010})\n"
     ]
    }
   ],
   "source": [
    "# generate synthetic dataset to overcome class imbalance\n",
    "from collections import Counter\n",
    "from numpy.random import RandomState\n",
    "from sklearn.datasets import make_classification\n",
    "from imblearn.over_sampling import SMOTE\n",
    "\n",
    "sm = SMOTE(random_state=42)\n",
    "X_res, y_res = sm.fit_resample(train.iloc[:,:-1],train.iloc[:,-1])\n",
    "print(\"Resampled dataset samples per class {}\".format(Counter(y_res)))\n",
    "\n",
    "train=pd.DataFrame(X_res,columns=list(train.columns[:-1]))\n",
    "train['CLASS']=y_res"
   ]
  },
  {
   "cell_type": "code",
   "execution_count": 59,
   "metadata": {},
   "outputs": [
    {
     "data": {
      "text/plain": [
       "RandomForestClassifier(max_depth=10, random_state=7)"
      ]
     },
     "execution_count": 59,
     "metadata": {},
     "output_type": "execute_result"
    }
   ],
   "source": [
    "from sklearn.ensemble import RandomForestClassifier\n",
    "\n",
    "rf=RandomForestClassifier(random_state=randomseed,n_estimators=100,max_depth=10 )\n",
    "rf.fit(train.iloc[:,:-1],train.iloc[:,-1])"
   ]
  },
  {
   "cell_type": "code",
   "execution_count": 66,
   "metadata": {},
   "outputs": [
    {
     "name": "stdout",
     "output_type": "stream",
     "text": [
      "0.9966666666666667\n"
     ]
    },
    {
     "data": {
      "image/png": "[encoded data removed]",
      "text/plain": [
       "<Figure size 432x288 with 1 Axes>"
      ]
     },
     "metadata": {
      "needs_background": "light"
     },
     "output_type": "display_data"
    },
    {
     "name": "stdout",
     "output_type": "stream",
     "text": [
      "Index(['fasting glucose', 'HBA1C', 'r-GTP gamma', 'Triglycerides', 'BMI',\n",
      "       'AGE', 'Uric Acid', 'SEX', 'Drinking', 'Smoking', 'physical_activity',\n",
      "       'Family_history'],\n",
      "      dtype='object')\n",
      "fasting glucose      0.438250\n",
      "HBA1C                0.422699\n",
      "r-GTP gamma          0.038511\n",
      "Triglycerides        0.027170\n",
      "BMI                  0.026340\n",
      "AGE                  0.020034\n",
      "Uric Acid            0.011502\n",
      "SEX                  0.004697\n",
      "Drinking             0.003646\n",
      "Smoking              0.003383\n",
      "physical_activity    0.002700\n",
      "Family_history       0.001068\n",
      "dtype: float64\n"
     ]
    }
   ],
   "source": [
    "ypred= rf.predict(test.iloc[:,:-1])\n",
    "\n",
    "score=rf.score(test.iloc[:,:-1],test.iloc[:,-1])\n",
    "print(score)\n",
    "\n",
    "feat_importances = pd.Series(rf.feature_importances_, index=test.iloc[:,:-1].columns)\n",
    "feat_importances.nlargest(16).plot(kind='barh')\n",
    "plt.show()\n",
    "\n",
    "print(feat_importances.nlargest(16).index)\n",
    "print(feat_importances.nlargest(16))"
   ]
  },
  {
   "cell_type": "code",
   "execution_count": 67,
   "metadata": {},
   "outputs": [
    {
     "data": {
      "text/plain": [
       "array([[500,   0,   0],\n",
       "       [  0, 495,   5],\n",
       "       [  0,   0, 500]], dtype=int64)"
      ]
     },
     "execution_count": 67,
     "metadata": {},
     "output_type": "execute_result"
    }
   ],
   "source": [
    "from sklearn.metrics import confusion_matrix\n",
    "confusion_matrix(test.iloc[:,-1],ypred)"
   ]
  },
  {
   "cell_type": "code",
   "execution_count": 68,
   "metadata": {},
   "outputs": [
    {
     "name": "stdout",
     "output_type": "stream",
     "text": [
      "Accuracy on training set: 1.000\n",
      "Accuracy on test set: 0.997\n"
     ]
    },
    {
     "data": {
      "text/html": [
       "<div>\n",
       "<style scoped>\n",
       "    .dataframe tbody tr th:only-of-type {\n",
       "        vertical-align: middle;\n",
       "    }\n",
       "\n",
       "    .dataframe tbody tr th {\n",
       "        vertical-align: top;\n",
       "    }\n",
       "\n",
       "    .dataframe thead th {\n",
       "        text-align: right;\n",
       "    }\n",
       "</style>\n",
       "<table border=\"1\" class=\"dataframe\">\n",
       "  <thead>\n",
       "    <tr style=\"text-align: right;\">\n",
       "      <th></th>\n",
       "      <th>0</th>\n",
       "      <th>1</th>\n",
       "      <th>2</th>\n",
       "    </tr>\n",
       "  </thead>\n",
       "  <tbody>\n",
       "    <tr>\n",
       "      <th>0</th>\n",
       "      <td>500</td>\n",
       "      <td>0</td>\n",
       "      <td>0</td>\n",
       "    </tr>\n",
       "    <tr>\n",
       "      <th>1</th>\n",
       "      <td>0</td>\n",
       "      <td>495</td>\n",
       "      <td>5</td>\n",
       "    </tr>\n",
       "    <tr>\n",
       "      <th>2</th>\n",
       "      <td>0</td>\n",
       "      <td>0</td>\n",
       "      <td>500</td>\n",
       "    </tr>\n",
       "  </tbody>\n",
       "</table>\n",
       "</div>"
      ],
      "text/plain": [
       "     0    1    2\n",
       "0  500    0    0\n",
       "1    0  495    5\n",
       "2    0    0  500"
      ]
     },
     "execution_count": 68,
     "metadata": {},
     "output_type": "execute_result"
    }
   ],
   "source": [
    "print(\"Accuracy on training set: {:.3f}\".format(rf.score(train.iloc[:,:-1],train.iloc[:,-1])))\n",
    "print(\"Accuracy on test set: {:.3f}\".format(rf.score(test.iloc[:,:-1],test.iloc[:,-1] ))) \n",
    "ypred=rf.predict(test.iloc[:,:-1])\n",
    "\n",
    "confmatrx=pd.DataFrame(confusion_matrix(test.iloc[:,-1],ypred))\n",
    "confmatrx.head()\n"
   ]
  },
  {
   "cell_type": "code",
   "execution_count": 70,
   "metadata": {},
   "outputs": [
    {
     "data": {
      "text/plain": [
       "array([[2.01754386e-03, 5.08771930e-03, 9.92894737e-01],\n",
       "       [0.00000000e+00, 2.50000000e-03, 9.97500000e-01],\n",
       "       [0.00000000e+00, 8.33333333e-04, 9.99166667e-01],\n",
       "       ...,\n",
       "       [9.99115136e-01, 8.84863724e-04, 0.00000000e+00],\n",
       "       [9.95308028e-01, 4.69197157e-03, 0.00000000e+00],\n",
       "       [9.18420361e-01, 8.15796387e-02, 0.00000000e+00]])"
      ]
     },
     "execution_count": 70,
     "metadata": {},
     "output_type": "execute_result"
    }
   ],
   "source": [
    "rf.predict_proba(test.iloc[:,:-1])"
   ]
  },
  {
   "cell_type": "code",
   "execution_count": 63,
   "metadata": {},
   "outputs": [
    {
     "name": "stdout",
     "output_type": "stream",
     "text": [
      "              precision    recall  f1-score   support\n",
      "\n",
      "           0       1.00      1.00      1.00       500\n",
      "           1       1.00      0.99      0.99       500\n",
      "           2       0.99      1.00      1.00       500\n",
      "\n",
      "    accuracy                           1.00      1500\n",
      "   macro avg       1.00      1.00      1.00      1500\n",
      "weighted avg       1.00      1.00      1.00      1500\n",
      "\n"
     ]
    }
   ],
   "source": [
    "\n",
    "from sklearn.metrics import classification_report \n",
    "print(classification_report(test.iloc[:,-1], ypred))\n"
   ]
  },
  {
   "cell_type": "code",
   "execution_count": 64,
   "metadata": {},
   "outputs": [
    {
     "name": "stdout",
     "output_type": "stream",
     "text": [
      "accuracy \t 1.0\n"
     ]
    },
    {
     "data": {
      "text/html": [
       "<div>\n",
       "<style scoped>\n",
       "    .dataframe tbody tr th:only-of-type {\n",
       "        vertical-align: middle;\n",
       "    }\n",
       "\n",
       "    .dataframe tbody tr th {\n",
       "        vertical-align: top;\n",
       "    }\n",
       "\n",
       "    .dataframe thead th {\n",
       "        text-align: right;\n",
       "    }\n",
       "</style>\n",
       "<table border=\"1\" class=\"dataframe\">\n",
       "  <thead>\n",
       "    <tr style=\"text-align: right;\">\n",
       "      <th></th>\n",
       "      <th>0</th>\n",
       "      <th>1</th>\n",
       "      <th>2</th>\n",
       "    </tr>\n",
       "  </thead>\n",
       "  <tbody>\n",
       "    <tr>\n",
       "      <th>0</th>\n",
       "      <td>500</td>\n",
       "      <td>0</td>\n",
       "      <td>0</td>\n",
       "    </tr>\n",
       "    <tr>\n",
       "      <th>1</th>\n",
       "      <td>0</td>\n",
       "      <td>500</td>\n",
       "      <td>0</td>\n",
       "    </tr>\n",
       "    <tr>\n",
       "      <th>2</th>\n",
       "      <td>0</td>\n",
       "      <td>0</td>\n",
       "      <td>500</td>\n",
       "    </tr>\n",
       "  </tbody>\n",
       "</table>\n",
       "</div>"
      ],
      "text/plain": [
       "     0    1    2\n",
       "0  500    0    0\n",
       "1    0  500    0\n",
       "2    0    0  500"
      ]
     },
     "execution_count": 64,
     "metadata": {},
     "output_type": "execute_result"
    }
   ],
   "source": [
    "import xgboost as xgb\n",
    "from sklearn import metrics as m\n",
    "xgb_model = xgb.XGBClassifier(objective=\"multi:softmax\", random_state=randomseed,num_class = 3)\n",
    "\n",
    "xgb_model.fit(train.iloc[:,:-1],train.iloc[:,-1])\n",
    "\n",
    "y_pred = xgb_model.predict((test.iloc[:,:-1]))\n",
    "\n",
    "print('accuracy \\t',m.accuracy_score(test.iloc[:,-1],y_pred))\n",
    "confmatrx=pd.DataFrame(confusion_matrix(test.iloc[:,-1],y_pred))\n",
    "confmatrx.head()"
   ]
  },
  {
   "cell_type": "code",
   "execution_count": 65,
   "metadata": {},
   "outputs": [
    {
     "name": "stdout",
     "output_type": "stream",
     "text": [
      "              precision    recall  f1-score   support\n",
      "\n",
      "           0       1.00      1.00      1.00       500\n",
      "           1       1.00      1.00      1.00       500\n",
      "           2       1.00      1.00      1.00       500\n",
      "\n",
      "    accuracy                           1.00      1500\n",
      "   macro avg       1.00      1.00      1.00      1500\n",
      "weighted avg       1.00      1.00      1.00      1500\n",
      "\n"
     ]
    }
   ],
   "source": [
    "print(classification_report(test.iloc[:,-1], y_pred))"
   ]
  },
  {
   "cell_type": "markdown",
   "metadata": {},
   "source": [
    "===============================\n",
    "=========="
   ]
  },
  {
   "cell_type": "code",
   "execution_count": null,
   "metadata": {},
   "outputs": [],
   "source": []
  },
  {
   "cell_type": "code",
   "execution_count": 26,
   "metadata": {},
   "outputs": [],
   "source": [
    "import pickle\n",
    "\n",
    "with open('DiabeticClassifierModel', 'wb') as f:\n",
    "    pickle.dump(xgb_model, f)\n",
    "\n",
    "\n"
   ]
  },
  {
   "cell_type": "code",
   "execution_count": 25,
   "metadata": {},
   "outputs": [
    {
     "name": "stdout",
     "output_type": "stream",
     "text": [
      "accuracy \t 1.0\n"
     ]
    }
   ],
   "source": [
    "import xgboost as xgb\n",
    "from sklearn import metrics as m\n",
    "xgb_model = xgb.XGBClassifier(objective=\"multi:softmax\", random_state=randomseed,num_class = 3)\n",
    "xgb_model.fit(train.iloc[:,:-1],train.iloc[:,-1])\n",
    "y_pred = xgb_model.predict((test.iloc[:,:-1]))\n",
    "print('accuracy \\t',m.accuracy_score(test.iloc[:,-1],y_pred))"
   ]
  },
  {
   "cell_type": "code",
   "execution_count": null,
   "metadata": {},
   "outputs": [],
   "source": []
  }
 ],
 "metadata": {
  "kernelspec": {
   "display_name": "Python 3",
   "language": "python",
   "name": "python3"
  },
  "language_info": {
   "codemirror_mode": {
    "name": "ipython",
    "version": 3
   },
   "file_extension": ".py",
   "mimetype": "text/x-python",
   "name": "python",
   "nbconvert_exporter": "python",
   "pygments_lexer": "ipython3",
   "version": "3.8.3"
  }
 },
 "nbformat": 4,
 "nbformat_minor": 2
}
